{
 "cells": [
  {
   "cell_type": "code",
   "execution_count": 1,
   "metadata": {},
   "outputs": [],
   "source": [
    "import sys\n",
    "sys.path.insert(0, '..')"
   ]
  },
  {
   "cell_type": "code",
   "execution_count": 2,
   "metadata": {},
   "outputs": [],
   "source": [
    "import findspark\n",
    "findspark.init()"
   ]
  },
  {
   "cell_type": "code",
   "execution_count": 3,
   "metadata": {},
   "outputs": [],
   "source": [
    "%load_ext autoreload\n",
    "%autoreload 2\n",
    "from pyspark.sql import DataFrame\n",
    "from utils.utilities import read_file,write_output"
   ]
  },
  {
   "cell_type": "code",
   "execution_count": 4,
   "metadata": {},
   "outputs": [],
   "source": [
    "from pyspark.sql import SparkSession\n",
    "\n",
    "spark = SparkSession.builder. \\\n",
    "    appName(\"Data-Processing\"). \\\n",
    "    getOrCreate()\n",
    "spark.conf.set(\"spark.debug.maxToStringFields\", 100000)\n",
    "spark.conf.set(\"spark.sql.debug.maxToStringFields\", 100000)"
   ]
  },
  {
   "cell_type": "markdown",
   "metadata": {},
   "source": [
    "## Variables"
   ]
  },
  {
   "cell_type": "code",
   "execution_count": 5,
   "metadata": {},
   "outputs": [],
   "source": [
    "input_path=\"/dataset/nyc-jobs.csv\"\n",
    "output_path=\"file:///dataset/output/\""
   ]
  },
  {
   "cell_type": "markdown",
   "metadata": {},
   "source": [
    "### Read data"
   ]
  },
  {
   "cell_type": "code",
   "execution_count": 7,
   "metadata": {},
   "outputs": [],
   "source": [
    "df=read_file(input_path)"
   ]
  },
  {
   "cell_type": "markdown",
   "metadata": {},
   "source": [
    "# Data Processing\n",
    "### 1. Create functions to process your dataset (Cleaning, column pre-processing, data wrangling, transformation etc)\n",
    "### 2. Apply atleast 3 feature engineering techniques\n",
    "### 3. Features removal based on the exploration/ profiling.\n",
    "### 4. Store your processed data into a target file"
   ]
  },
  {
   "cell_type": "markdown",
   "metadata": {},
   "source": [
    "## 1. Functions to process dataset (Cleaning, column pre-processing, data wrangling, transformation etc)"
   ]
  },
  {
   "cell_type": "markdown",
   "metadata": {},
   "source": [
    "#### A. Clean Column Names"
   ]
  },
  {
   "cell_type": "code",
   "execution_count": 70,
   "metadata": {},
   "outputs": [
    {
     "name": "stdout",
     "output_type": "stream",
     "text": [
      "-----------------------------------------------------------------------------------------\n",
      "Column Names before Cleanup are ['Job ID', 'Agency', 'Posting Type', '# Of Positions', 'Business Title', 'Civil Service Title', 'Title Code No', 'Level', 'Job Category', 'Full-Time/Part-Time indicator', 'Salary Range From', 'Salary Range To', 'Salary Frequency', 'Work Location', 'Division/Work Unit', 'Job Description', 'Minimum Qual Requirements', 'Preferred Skills', 'Additional Information', 'To Apply', 'Hours/Shift', 'Work Location 1', 'Recruitment Contact', 'Residency Requirement', 'Posting Date', 'Post Until', 'Posting Updated', 'Process Date']\n",
      "-----------------------------------------------------------------------------------------\n"
     ]
    }
   ],
   "source": [
    "print(\"-----------------------------------------------------------------------------------------\")\n",
    "print(f\"Column Names before Cleanup are {df.columns}\")\n",
    "print(\"-----------------------------------------------------------------------------------------\")"
   ]
  },
  {
   "cell_type": "code",
   "execution_count": 71,
   "metadata": {},
   "outputs": [],
   "source": [
    "from utils.utilities import clean_columns"
   ]
  },
  {
   "cell_type": "code",
   "execution_count": 72,
   "metadata": {},
   "outputs": [],
   "source": [
    "df=clean_columns(df)"
   ]
  },
  {
   "cell_type": "code",
   "execution_count": 73,
   "metadata": {},
   "outputs": [
    {
     "name": "stdout",
     "output_type": "stream",
     "text": [
      "-----------------------------------------------------------------------------------------\n",
      "Column Names After Cleanup are ['job_id', 'agency', 'posting_type', 'no_of_positions', 'business_title', 'civil_service_title', 'title_code_no', 'level', 'job_category', 'full-time/part-time_indicator', 'salary_range_from', 'salary_range_to', 'salary_frequency', 'work_location', 'division/work_unit', 'job_description', 'minimum_qual_requirements', 'preferred_skills', 'additional_information', 'to_apply', 'hours/shift', 'work_location_1', 'recruitment_contact', 'residency_requirement', 'posting_date', 'post_until', 'posting_updated', 'process_date']\n",
      "-----------------------------------------------------------------------------------------\n"
     ]
    }
   ],
   "source": [
    "print(\"-----------------------------------------------------------------------------------------\")\n",
    "print(f\"Column Names After Cleanup are {df.columns}\")\n",
    "print(\"-----------------------------------------------------------------------------------------\")"
   ]
  },
  {
   "cell_type": "markdown",
   "metadata": {},
   "source": [
    "#### B. Remove Duplicates"
   ]
  },
  {
   "cell_type": "code",
   "execution_count": 74,
   "metadata": {},
   "outputs": [],
   "source": [
    "from utils.utilities import remove_duplicates"
   ]
  },
  {
   "cell_type": "code",
   "execution_count": 75,
   "metadata": {},
   "outputs": [
    {
     "name": "stdout",
     "output_type": "stream",
     "text": [
      "-----------------------------------------------------------------------------------------\n",
      "Count Before Removing Duplicates is 2946\n",
      "-----------------------------------------------------------------------------------------\n"
     ]
    }
   ],
   "source": [
    "print(\"-----------------------------------------------------------------------------------------\")\n",
    "print(f\"Count Before Removing Duplicates is {df.count()}\")\n",
    "print(\"-----------------------------------------------------------------------------------------\")"
   ]
  },
  {
   "cell_type": "code",
   "execution_count": 76,
   "metadata": {},
   "outputs": [],
   "source": [
    "df=remove_duplicates(df)"
   ]
  },
  {
   "cell_type": "code",
   "execution_count": 77,
   "metadata": {},
   "outputs": [
    {
     "name": "stdout",
     "output_type": "stream",
     "text": [
      "-----------------------------------------------------------------------------------------\n",
      "Count After Removing Duplicates is 2915\n",
      "-----------------------------------------------------------------------------------------\n"
     ]
    }
   ],
   "source": [
    "print(\"-----------------------------------------------------------------------------------------\")\n",
    "print(f\"Count After Removing Duplicates is {df.count()}\")\n",
    "print(\"-----------------------------------------------------------------------------------------\")"
   ]
  },
  {
   "cell_type": "markdown",
   "metadata": {},
   "source": [
    "#### C. Clean String Column's"
   ]
  },
  {
   "cell_type": "code",
   "execution_count": 78,
   "metadata": {},
   "outputs": [],
   "source": [
    "from utils.utilities import clean_str_cols"
   ]
  },
  {
   "cell_type": "code",
   "execution_count": 79,
   "metadata": {},
   "outputs": [],
   "source": [
    "str_columns=['civil_service_title','job_description','minimum_qual_requirements','preferred_skills','additional_information','to_apply','hours/shift']\n"
   ]
  },
  {
   "cell_type": "code",
   "execution_count": 80,
   "metadata": {},
   "outputs": [
    {
     "name": "stdout",
     "output_type": "stream",
     "text": [
      "+--------------------------------------------------------------------------------------------------------------------------------------------------------------------------------------------------------------------------------------------------------------------------------------------------------------------------------------------------------------------------------------------------------------------------------------------------------------------------------------------------------------------------------------------------------------------------------------------------------------------------------------------------------------------------------------------------------------------------------------------------------------------------------------------------------------------------------------------------------------------------------------------------------------------------------------------------------------------------------------------------------------------------------------------------------------------------------------------------------------------------------------------------------------------------------------------------------------------------------------------------------------------------------------------+\n",
      "|preferred_skills                                                                                                                                                                                                                                                                                                                                                                                                                                                                                                                                                                                                                                                                                                                                                                                                                                                                                                                                                                                                                                                                                                                                                                                                                                                                            |\n",
      "+--------------------------------------------------------------------------------------------------------------------------------------------------------------------------------------------------------------------------------------------------------------------------------------------------------------------------------------------------------------------------------------------------------------------------------------------------------------------------------------------------------------------------------------------------------------------------------------------------------------------------------------------------------------------------------------------------------------------------------------------------------------------------------------------------------------------------------------------------------------------------------------------------------------------------------------------------------------------------------------------------------------------------------------------------------------------------------------------------------------------------------------------------------------------------------------------------------------------------------------------------------------------------------------------+\n",
      "|***A MOTOR VEHICLE DRIVER'S LICENSE VALID IN THE STATE OF NEW YORK IS REQUIRED. THIS LICENSE MUST BE MAINTAINED FOR DURATION OF APPOINTMENT.***  - Ability to work cooperatively with city employees and regulators to efficiently advance the programâ€™s projects.  - Ability to effectively communicate both orally and in writing.  - Ability to oversee multiple complex projects at the same time and ability to adjust to changing priorities.  - Experience with ArcView and large databases is highly preferred.  - Experience reading design plans is highly preferred.  - Fundamentals of Engineering highly preferred.                                                                                                                                                                                                                                                                                                                                                                                                                                                                                                                                                                                                                                                          |\n",
      "|Ability to communicate effectively in verbal and written form.                                                                                                                                                                                                                                                                                                                                                                                                                                                                                                                                                                                                                                                                                                                                                                                                                                                                                                                                                                                                                                                                                                                                                                                                                              |\n",
      "|â€¢ Experience in human resources management, recruitment, onboarding engagement and workforce development â€¢ Working knowledge of the New York City Automated Personnel System (NYCAPS), â€¢ Self-starter who is extremely organized and able to manage multiple priorities concurrently with the ability to work in a high-pressure, time-sensitive environment effectively. â€¢ Proven effectiveness supervising others, demonstrated ability to convey information and procedures to staff and ability to empower them to make decisions. â€¢ Excellent interpersonal and team management skills â€¢ Excellent written and oral communications skills â€¢ Proven ability to handle sensitive material and information with discretion; â€¢ Strong analytical skills, attention to detail and follow-through on delegated tasks. â€¢ Proficiency with Microsoft Office, particularly knowledge of Visio, Excel, Access and PowerPoint. â€¢ Provide exemplary customer service, proactively responds to inquiries quickly and accurately, providing the necessary information and documents needed to resolve issues in a timely manner. â€¢ Demonstrated team player, with experience working collaboratively, building relationships at all levels of an organization to achieve goals.|\n",
      "|The preferred candidate should possess the following: A bachelor's degree and 2+ years of full time experience in Accounts Payable; detail oriented, self-motivated, personable; ability to manage a high volume workload; knowledge and experience with: NYC Financial Management System (FMS3), InfoAdvantage and Crystal Reporting; familiarity with accounting and bookkeeping best practices; proficient with Microsoft Office Excel, Access and Word; excellent communication skills and the ability to communicate with clients and vendors both in writing and orally; ability to be a team player and assist other members of the staff when needed; and handle multiple tasks under tight deadlines.                                                                                                                                                                                                                                                                                                                                                                                                                                                                                                                                                                              |\n",
      "|Minimum of five yearsâ€™ experience working in a formal Help Desk supporting at least 400 users. The candidate must be proficient with the following technologies/processes: Windows 7, Microsoft Office 2010, Citrix Xen App, Xen Desktop and setting up network peripherals. The candidate must have excellent customer service and communications (oral and written) skills. Must have performed migrations from Windows XP to Windows 7, Active Directory management, Windows scripting, Change Management experience.   Certifications: Citrix Certified Associate-V, Citrix Certified Professional-V, Microsoft Technology Associate-Infrastructure, MCSA (Server or Desktop)  Please note: Certified IT Administrator LAN/WAN, Exam # 6049 has opened from May 4, 2016 - May 24, 2016.                                                                                                                                                                                                                                                                                                                                                                                                                                                                                               |\n",
      "|Ability to communicate effectively in verbal and written form.  Knowledge of FMS2, FMS3, and advanced Microsoft Excel skills.                                                                                                                                                                                                                                                                                                                                                                                                                                                                                                                                                                                                                                                                                                                                                                                                                                                                                                                                                                                                                                                                                                                                                               |\n",
      "|â€¢\\tBachelors Degree in Mechanical Engineering or related field. â€¢\\t10 years or more in relevent engineering field. â€¢\\tProfessional Engineering License â€¢\\tPossess certifications from the National Association of Corrosion Engineers â€¢\\tNYS Driverâ€™s License                                                                                                                                                                                                                                                                                                                                                                                                                                                                                                                                                                                                                                                                                                                                                                                                                                                                                                                                                                                                                   |\n",
      "|Demonstrates excellent communication, organization and writing skills.  Preferences will be given to candidates with computer knowledge of MS Word, Excel, and Access                                                                                                                                                                                                                                                                                                                                                                                                                                                                                                                                                                                                                                                                                                                                                                                                                                                                                                                                                                                                                                                                                                                       |\n",
      "|null                                                                                                                                                                                                                                                                                                                                                                                                                                                                                                                                                                                                                                                                                                                                                                                                                                                                                                                                                                                                                                                                                                                                                                                                                                                                                        |\n",
      "|null                                                                                                                                                                                                                                                                                                                                                                                                                                                                                                                                                                                                                                                                                                                                                                                                                                                                                                                                                                                                                                                                                                                                                                                                                                                                                        |\n",
      "+--------------------------------------------------------------------------------------------------------------------------------------------------------------------------------------------------------------------------------------------------------------------------------------------------------------------------------------------------------------------------------------------------------------------------------------------------------------------------------------------------------------------------------------------------------------------------------------------------------------------------------------------------------------------------------------------------------------------------------------------------------------------------------------------------------------------------------------------------------------------------------------------------------------------------------------------------------------------------------------------------------------------------------------------------------------------------------------------------------------------------------------------------------------------------------------------------------------------------------------------------------------------------------------------+\n",
      "only showing top 10 rows\n",
      "\n",
      "String Column Before Cleanup is : None\n"
     ]
    }
   ],
   "source": [
    "print(f\"String Column Before Cleanup is : {df.select('preferred_skills').show(10,False)}\")"
   ]
  },
  {
   "cell_type": "code",
   "execution_count": 81,
   "metadata": {},
   "outputs": [],
   "source": [
    "df=clean_str_cols(df,str_columns)"
   ]
  },
  {
   "cell_type": "code",
   "execution_count": 82,
   "metadata": {},
   "outputs": [
    {
     "name": "stdout",
     "output_type": "stream",
     "text": [
      "+----------------------------------------------------------------------------------------------------------------------------------------------------------------------------------------------------------------------------------------------------------------------------------------------------------------------------------------------------------------------------------------------------------------------------------------------------------------------------------------------------------------------------------------------------------------------------------------------------------------------------------------------------------------------------------------------------------------------------------------------------------------------------------------------------------------------------------------------------------------------------------------------------------------------------------------------------------------------------------------------------------------------------------------------------------------------------------------------------------------------------------------------------------------------------------------------------------------------------+\n",
      "|preferred_skills                                                                                                                                                                                                                                                                                                                                                                                                                                                                                                                                                                                                                                                                                                                                                                                                                                                                                                                                                                                                                                                                                                                                                                                                            |\n",
      "+----------------------------------------------------------------------------------------------------------------------------------------------------------------------------------------------------------------------------------------------------------------------------------------------------------------------------------------------------------------------------------------------------------------------------------------------------------------------------------------------------------------------------------------------------------------------------------------------------------------------------------------------------------------------------------------------------------------------------------------------------------------------------------------------------------------------------------------------------------------------------------------------------------------------------------------------------------------------------------------------------------------------------------------------------------------------------------------------------------------------------------------------------------------------------------------------------------------------------+\n",
      "| A MOTOR VEHICLE DRIVER S LICENSE VALID IN THE STATE OF NEW YORK IS REQUIRED THIS LICENSE MUST BE MAINTAINED FOR DURATION OF APPOINTMENT - Ability to work cooperatively with city employees and regulators to efficiently advance the program s projects - Ability to effectively communicate both orally and in writing - Ability to oversee multiple complex projects at the same time and ability to adjust to changing priorities - Experience with ArcView and large databases is highly preferred - Experience reading design plans is highly preferred - Fundamentals of Engineering highly preferred                                                                                                                                                                                                                                                                                                                                                                                                                                                                                                                                                                                                               |\n",
      "|Ability to communicate effectively in verbal and written form                                                                                                                                                                                                                                                                                                                                                                                                                                                                                                                                                                                                                                                                                                                                                                                                                                                                                                                                                                                                                                                                                                                                                               |\n",
      "| Experience in human resources management recruitment onboarding engagement and workforce development Working knowledge of the New York City Automated Personnel System NYCAPS Self-starter who is extremely organized and able to manage multiple priorities concurrently with the ability to work in a high-pressure time-sensitive environment effectively Proven effectiveness supervising others demonstrated ability to convey information and procedures to staff and ability to empower them to make decisions Excellent interpersonal and team management skills Excellent written and oral communications skills Proven ability to handle sensitive material and information with discretion Strong analytical skills attention to detail and follow-through on delegated tasks Proficiency with Microsoft Office particularly knowledge of Visio Excel Access and PowerPoint Provide exemplary customer service proactively responds to inquiries quickly and accurately providing the necessary information and documents needed to resolve issues in a timely manner Demonstrated team player with experience working collaboratively building relationships at all levels of an organization to achieve goals |\n",
      "|The preferred candidate should possess the following A bachelor s degree and 2 years of full time experience in Accounts Payable detail oriented self-motivated personable ability to manage a high volume workload knowledge and experience with NYC Financial Management System FMS3 InfoAdvantage and Crystal Reporting familiarity with accounting and bookkeeping best practices proficient with Microsoft Office Excel Access and Word excellent communication skills and the ability to communicate with clients and vendors both in writing and orally ability to be a team player and assist other members of the staff when needed and handle multiple tasks under tight deadlines                                                                                                                                                                                                                                                                                                                                                                                                                                                                                                                                |\n",
      "|Minimum of five years experience working in a formal Help Desk supporting at least 400 users The candidate must be proficient with the following technologies/processes Windows 7 Microsoft Office 2010 Citrix Xen App Xen Desktop and setting up network peripherals The candidate must have excellent customer service and communications oral and written skills Must have performed migrations from Windows XP to Windows 7 Active Directory management Windows scripting Change Management experience Certifications Citrix Certified Associate-V Citrix Certified Professional-V Microsoft Technology Associate-Infrastructure MCSA Server or Desktop Please note Certified IT Administrator LAN/WAN Exam 6049 has opened from May 4 2016 - May 24 2016                                                                                                                                                                                                                                                                                                                                                                                                                                                               |\n",
      "|Ability to communicate effectively in verbal and written form Knowledge of FMS2 FMS3 and advanced Microsoft Excel skills                                                                                                                                                                                                                                                                                                                                                                                                                                                                                                                                                                                                                                                                                                                                                                                                                                                                                                                                                                                                                                                                                                    |\n",
      "| Bachelors Degree in Mechanical Engineering or related field 10 years or more in relevent engineering field Professional Engineering License Possess certifications from the National Association of Corrosion Engineers NYS Driver s License                                                                                                                                                                                                                                                                                                                                                                                                                                                                                                                                                                                                                                                                                                                                                                                                                                                                                                                                                                               |\n",
      "|Demonstrates excellent communication organization and writing skills Preferences will be given to candidates with computer knowledge of MS Word Excel and Access                                                                                                                                                                                                                                                                                                                                                                                                                                                                                                                                                                                                                                                                                                                                                                                                                                                                                                                                                                                                                                                            |\n",
      "|null                                                                                                                                                                                                                                                                                                                                                                                                                                                                                                                                                                                                                                                                                                                                                                                                                                                                                                                                                                                                                                                                                                                                                                                                                        |\n",
      "|null                                                                                                                                                                                                                                                                                                                                                                                                                                                                                                                                                                                                                                                                                                                                                                                                                                                                                                                                                                                                                                                                                                                                                                                                                        |\n",
      "+----------------------------------------------------------------------------------------------------------------------------------------------------------------------------------------------------------------------------------------------------------------------------------------------------------------------------------------------------------------------------------------------------------------------------------------------------------------------------------------------------------------------------------------------------------------------------------------------------------------------------------------------------------------------------------------------------------------------------------------------------------------------------------------------------------------------------------------------------------------------------------------------------------------------------------------------------------------------------------------------------------------------------------------------------------------------------------------------------------------------------------------------------------------------------------------------------------------------------+\n",
      "only showing top 10 rows\n",
      "\n",
      "String Column After Cleanup is : None\n"
     ]
    }
   ],
   "source": [
    "print(f\"String Column After Cleanup is : {df.select('preferred_skills').show(10,False)}\")"
   ]
  },
  {
   "cell_type": "markdown",
   "metadata": {},
   "source": [
    "#### D. Transformation's"
   ]
  },
  {
   "cell_type": "markdown",
   "metadata": {},
   "source": [
    "##### Derive How Long back[Years] Job was posted\n",
    "##### What was Job Posting Year"
   ]
  },
  {
   "cell_type": "code",
   "execution_count": 83,
   "metadata": {},
   "outputs": [
    {
     "name": "stdout",
     "output_type": "stream",
     "text": [
      "+------+-------------------+-------------+------------+\n",
      "|job_id|       posting_date|years_old_job|posting_year|\n",
      "+------+-------------------+-------------+------------+\n",
      "|306957|2017-09-27 00:00:00|         4.92|        2017|\n",
      "|355745|2018-08-08 00:00:00|         4.05|        2018|\n",
      "|376556|2018-12-10 00:00:00|         3.72|        2018|\n",
      "|160910|2014-08-21 00:00:00|         8.02|        2014|\n",
      "|234921|2016-03-11 00:00:00|         6.46|        2016|\n",
      "+------+-------------------+-------------+------------+\n",
      "only showing top 5 rows\n",
      "\n"
     ]
    }
   ],
   "source": [
    "from pyspark.sql.functions import *\n",
    "import pyspark.sql.functions as f\n",
    "df.withColumn(\"current_date\",current_date()).\\\n",
    "withColumn(\"post_date\",to_date(col('posting_date'),'yyyy-MM-dd')).\\\n",
    "withColumn(\"posting_year\",year(col(\"post_date\"))).\\\n",
    "withColumn(\"years_old_job\",round(months_between(current_date(),col(\"post_date\"))/lit(12),2)).drop('post_date').\\\n",
    "select('job_id','posting_date','years_old_job','posting_year').show(5)"
   ]
  },
  {
   "cell_type": "markdown",
   "metadata": {},
   "source": [
    "## 2. Apply atleast 3 feature engineering techniques"
   ]
  },
  {
   "cell_type": "markdown",
   "metadata": {},
   "source": [
    "### A. Imputation"
   ]
  },
  {
   "cell_type": "code",
   "execution_count": 135,
   "metadata": {},
   "outputs": [
    {
     "name": "stdout",
     "output_type": "stream",
     "text": [
      "root\n",
      " |-- job_id: integer (nullable = true)\n",
      " |-- agency: string (nullable = true)\n",
      " |-- posting_type: string (nullable = true)\n",
      " |-- no_of_positions: integer (nullable = true)\n",
      " |-- business_title: string (nullable = true)\n",
      " |-- civil_service_title: string (nullable = true)\n",
      " |-- title_code_no: string (nullable = true)\n",
      " |-- level: string (nullable = true)\n",
      " |-- job_category: string (nullable = true)\n",
      " |-- full-time/part-time_indicator: string (nullable = true)\n",
      " |-- salary_range_from: double (nullable = true)\n",
      " |-- salary_range_to: double (nullable = true)\n",
      " |-- salary_frequency: string (nullable = true)\n",
      " |-- work_location: string (nullable = true)\n",
      " |-- division/work_unit: string (nullable = true)\n",
      " |-- job_description: string (nullable = true)\n",
      " |-- minimum_qual_requirements: string (nullable = true)\n",
      " |-- preferred_skills: string (nullable = true)\n",
      " |-- additional_information: string (nullable = true)\n",
      " |-- to_apply: string (nullable = true)\n",
      " |-- hours/shift: string (nullable = true)\n",
      " |-- work_location_1: string (nullable = true)\n",
      " |-- recruitment_contact: string (nullable = true)\n",
      " |-- residency_requirement: string (nullable = true)\n",
      " |-- posting_date: timestamp (nullable = true)\n",
      " |-- post_until: timestamp (nullable = true)\n",
      " |-- posting_updated: timestamp (nullable = true)\n",
      " |-- process_date: timestamp (nullable = true)\n",
      "\n"
     ]
    }
   ],
   "source": [
    "df.printSchema()"
   ]
  },
  {
   "cell_type": "code",
   "execution_count": 84,
   "metadata": {},
   "outputs": [],
   "source": [
    "df=df.na.drop(how=\"all\")\n",
    "df=df.drop('recruitment_contact')"
   ]
  },
  {
   "cell_type": "code",
   "execution_count": 85,
   "metadata": {},
   "outputs": [],
   "source": [
    "nullCols=['job_category','full-time/part-time_indicator','preferred_skills','additional_information',\n",
    "              'to_apply','hours/shift','work_location_1','residency_requirement','post_until','posting_updated',\n",
    "              'process_date']"
   ]
  },
  {
   "cell_type": "code",
   "execution_count": 86,
   "metadata": {},
   "outputs": [],
   "source": [
    "df=df.na.fill('NA values', nullCols)"
   ]
  },
  {
   "cell_type": "code",
   "execution_count": 87,
   "metadata": {},
   "outputs": [
    {
     "name": "stdout",
     "output_type": "stream",
     "text": [
      "root\n",
      " |-- job_id: integer (nullable = true)\n",
      " |-- agency: string (nullable = true)\n",
      " |-- posting_type: string (nullable = true)\n",
      " |-- no_of_positions: integer (nullable = true)\n",
      " |-- business_title: string (nullable = true)\n",
      " |-- civil_service_title: string (nullable = true)\n",
      " |-- title_code_no: string (nullable = true)\n",
      " |-- level: string (nullable = true)\n",
      " |-- job_category: string (nullable = false)\n",
      " |-- full-time/part-time_indicator: string (nullable = false)\n",
      " |-- salary_range_from: double (nullable = true)\n",
      " |-- salary_range_to: double (nullable = true)\n",
      " |-- salary_frequency: string (nullable = true)\n",
      " |-- work_location: string (nullable = true)\n",
      " |-- division/work_unit: string (nullable = true)\n",
      " |-- job_description: string (nullable = true)\n",
      " |-- minimum_qual_requirements: string (nullable = true)\n",
      " |-- preferred_skills: string (nullable = false)\n",
      " |-- additional_information: string (nullable = false)\n",
      " |-- to_apply: string (nullable = false)\n",
      " |-- hours/shift: string (nullable = false)\n",
      " |-- work_location_1: string (nullable = false)\n",
      " |-- residency_requirement: string (nullable = false)\n",
      " |-- posting_date: timestamp (nullable = true)\n",
      " |-- post_until: timestamp (nullable = true)\n",
      " |-- posting_updated: timestamp (nullable = true)\n",
      " |-- process_date: timestamp (nullable = true)\n",
      "\n"
     ]
    }
   ],
   "source": [
    "df.printSchema()"
   ]
  },
  {
   "cell_type": "markdown",
   "metadata": {},
   "source": [
    "### A. Create new column from existing column"
   ]
  },
  {
   "cell_type": "code",
   "execution_count": 90,
   "metadata": {},
   "outputs": [],
   "source": [
    "from pyspark.sql.functions import *\n",
    "import pyspark.sql.functions as f\n",
    "\n",
    "def feat_from_date(df:DataFrame) -> DataFrame:\n",
    "    \"\"\"\n",
    "    \"\"\"\n",
    "    df=df.withColumn(\"current_date\",current_date()).\\\n",
    "    withColumn(\"post_date\",to_date(col('posting_date'),'yyyy-MM-dd')).\\\n",
    "    withColumn(\"posting_year\",year(col(\"post_date\"))).\\\n",
    "    withColumn(\"years_old_job\",round(months_between(current_date(),col(\"post_date\"))/lit(12),2)).drop('post_date')\n",
    "    return df"
   ]
  },
  {
   "cell_type": "code",
   "execution_count": 91,
   "metadata": {},
   "outputs": [],
   "source": [
    "df=feat_from_date(df)"
   ]
  },
  {
   "cell_type": "code",
   "execution_count": 92,
   "metadata": {},
   "outputs": [
    {
     "name": "stdout",
     "output_type": "stream",
     "text": [
      "+------+-------------------+-------------+------------+\n",
      "|job_id|posting_date       |years_old_job|posting_year|\n",
      "+------+-------------------+-------------+------------+\n",
      "|306957|2017-09-27 00:00:00|4.92         |2017        |\n",
      "|355745|2018-08-08 00:00:00|4.05         |2018        |\n",
      "|376556|2018-12-10 00:00:00|3.72         |2018        |\n",
      "|160910|2014-08-21 00:00:00|8.02         |2014        |\n",
      "|234921|2016-03-11 00:00:00|6.46         |2016        |\n",
      "+------+-------------------+-------------+------------+\n",
      "only showing top 5 rows\n",
      "\n"
     ]
    }
   ],
   "source": [
    "df.select('job_id','posting_date','years_old_job','posting_year').show(5,False)"
   ]
  },
  {
   "cell_type": "markdown",
   "metadata": {},
   "source": [
    " ###  B. Handling Outliers"
   ]
  },
  {
   "cell_type": "code",
   "execution_count": 93,
   "metadata": {},
   "outputs": [],
   "source": [
    "numerical_columns=[\"no_of_positions\",\"salary_range_from\",\"salary_range_to\"]"
   ]
  },
  {
   "cell_type": "code",
   "execution_count": 94,
   "metadata": {},
   "outputs": [
    {
     "name": "stdout",
     "output_type": "stream",
     "text": [
      "root\n",
      " |-- job_id: integer (nullable = true)\n",
      " |-- agency: string (nullable = true)\n",
      " |-- posting_type: string (nullable = true)\n",
      " |-- no_of_positions: integer (nullable = true)\n",
      " |-- business_title: string (nullable = true)\n",
      " |-- civil_service_title: string (nullable = true)\n",
      " |-- title_code_no: string (nullable = true)\n",
      " |-- level: string (nullable = true)\n",
      " |-- job_category: string (nullable = false)\n",
      " |-- full-time/part-time_indicator: string (nullable = false)\n",
      " |-- salary_range_from: double (nullable = true)\n",
      " |-- salary_range_to: double (nullable = true)\n",
      " |-- salary_frequency: string (nullable = true)\n",
      " |-- work_location: string (nullable = true)\n",
      " |-- division/work_unit: string (nullable = true)\n",
      " |-- job_description: string (nullable = true)\n",
      " |-- minimum_qual_requirements: string (nullable = true)\n",
      " |-- preferred_skills: string (nullable = false)\n",
      " |-- additional_information: string (nullable = false)\n",
      " |-- to_apply: string (nullable = false)\n",
      " |-- hours/shift: string (nullable = false)\n",
      " |-- work_location_1: string (nullable = false)\n",
      " |-- residency_requirement: string (nullable = false)\n",
      " |-- posting_date: timestamp (nullable = true)\n",
      " |-- post_until: timestamp (nullable = true)\n",
      " |-- posting_updated: timestamp (nullable = true)\n",
      " |-- process_date: timestamp (nullable = true)\n",
      " |-- current_date: date (nullable = false)\n",
      " |-- posting_year: integer (nullable = true)\n",
      " |-- years_old_job: double (nullable = true)\n",
      "\n"
     ]
    }
   ],
   "source": [
    "df.printSchema()"
   ]
  },
  {
   "cell_type": "code",
   "execution_count": 96,
   "metadata": {},
   "outputs": [],
   "source": [
    "pdf=df.toPandas()"
   ]
  },
  {
   "cell_type": "code",
   "execution_count": 24,
   "metadata": {},
   "outputs": [
    {
     "name": "stderr",
     "output_type": "stream",
     "text": [
      "/opt/anaconda3/lib/python3.9/site-packages/seaborn/_decorators.py:36: FutureWarning: Pass the following variable as a keyword arg: x. From version 0.12, the only valid positional argument will be `data`, and passing other arguments without an explicit keyword will result in an error or misinterpretation.\n",
      "  warnings.warn(\n"
     ]
    },
    {
     "data": {
      "text/plain": [
       "<AxesSubplot:xlabel='salary_range_from'>"
      ]
     },
     "execution_count": 24,
     "metadata": {},
     "output_type": "execute_result"
    },
    {
     "data": {
      "image/png": "[encoded data removed]",
      "text/plain": [
       "<Figure size 432x288 with 1 Axes>"
      ]
     },
     "metadata": {
      "needs_background": "light"
     },
     "output_type": "display_data"
    }
   ],
   "source": [
    "# Box Plot\n",
    "import seaborn as sns\n",
    "sns.boxplot(pdf['salary_range_from'])"
   ]
  },
  {
   "cell_type": "code",
   "execution_count": 25,
   "metadata": {},
   "outputs": [
    {
     "name": "stdout",
     "output_type": "stream",
     "text": [
      "(array([  90,  234,  265,  289,  311,  320,  340,  351,  439,  471,  550,\n",
      "        563,  619,  645,  654,  664,  669,  679,  685,  687,  713,  715,\n",
      "        729,  734,  938,  944, 1022, 1038, 1059, 1062, 1071, 1076, 1133,\n",
      "       1238, 1272, 1311, 1355, 1362, 1370, 1371, 1372, 1381, 1386, 1387,\n",
      "       1400, 1423, 1465, 1493, 1537, 1588, 1622, 1646, 1659, 1674, 1699,\n",
      "       1705, 1706, 1720, 1725, 1749, 1754, 1768, 1770, 1783, 1792, 1823,\n",
      "       1862, 1908, 1926, 1953, 1972, 2052, 2074, 2081, 2088, 2101, 2114,\n",
      "       2134, 2235, 2237, 2303, 2387, 2421, 2440, 2454, 2465, 2477, 2480,\n",
      "       2527, 2540, 2563, 2606, 2621, 2627, 2631, 2638, 2658, 2669, 2682,\n",
      "       2718, 2769, 2803, 2808, 2842, 2869, 2876, 2880, 2899]),)\n"
     ]
    }
   ],
   "source": [
    "import numpy as np\n",
    "print(np.where(pdf['salary_range_from']>100000))"
   ]
  },
  {
   "cell_type": "code",
   "execution_count": 26,
   "metadata": {},
   "outputs": [
    {
     "name": "stderr",
     "output_type": "stream",
     "text": [
      "/opt/anaconda3/lib/python3.9/site-packages/seaborn/_decorators.py:36: FutureWarning: Pass the following variable as a keyword arg: x. From version 0.12, the only valid positional argument will be `data`, and passing other arguments without an explicit keyword will result in an error or misinterpretation.\n",
      "  warnings.warn(\n"
     ]
    },
    {
     "data": {
      "text/plain": [
       "<AxesSubplot:xlabel='salary_range_to'>"
      ]
     },
     "execution_count": 26,
     "metadata": {},
     "output_type": "execute_result"
    },
    {
     "data": {
      "image/png": "[encoded data removed]",
      "text/plain": [
       "<Figure size 432x288 with 1 Axes>"
      ]
     },
     "metadata": {
      "needs_background": "light"
     },
     "output_type": "display_data"
    }
   ],
   "source": [
    "# Box Plot\n",
    "import seaborn as sns\n",
    "sns.boxplot(pdf['salary_range_to'])"
   ]
  },
  {
   "cell_type": "code",
   "execution_count": 31,
   "metadata": {},
   "outputs": [
    {
     "name": "stdout",
     "output_type": "stream",
     "text": [
      "(array([  15,   21,   23,   39,   55,   61,   74,   88,   90,   94,   97,\n",
      "         99,  125,  144,  184,  234,  237,  370,  396,  419,  424,  439,\n",
      "        456,  514,  521,  563,  729,  801,  826,  837,  849,  857,  911,\n",
      "        938,  981, 1035, 1112, 1119, 1149, 1170, 1209, 1216, 1235, 1251,\n",
      "       1291, 1357, 1414, 1426, 1465, 1493, 1564, 1586, 1588, 1618, 1622,\n",
      "       1646, 1649, 1672, 1705, 1723, 1725, 1734, 1795, 1842, 1852, 1862,\n",
      "       1878, 1879, 1883, 1894, 1910, 1917, 1918, 1945, 1953, 2075, 2188,\n",
      "       2189, 2192, 2214, 2235, 2250, 2252, 2268, 2312, 2387, 2403, 2438,\n",
      "       2540, 2549, 2550, 2563, 2599, 2606, 2621, 2627, 2663, 2669, 2707,\n",
      "       2718, 2804, 2818, 2832, 2886]),)\n"
     ]
    }
   ],
   "source": [
    "import numpy as np\n",
    "print(np.where(pdf['salary_range_to']>175000))"
   ]
  },
  {
   "cell_type": "code",
   "execution_count": 33,
   "metadata": {},
   "outputs": [
    {
     "name": "stderr",
     "output_type": "stream",
     "text": [
      "/opt/anaconda3/lib/python3.9/site-packages/seaborn/_decorators.py:36: FutureWarning: Pass the following variable as a keyword arg: x. From version 0.12, the only valid positional argument will be `data`, and passing other arguments without an explicit keyword will result in an error or misinterpretation.\n",
      "  warnings.warn(\n"
     ]
    },
    {
     "data": {
      "text/plain": [
       "<AxesSubplot:xlabel='no_of_positions'>"
      ]
     },
     "execution_count": 33,
     "metadata": {},
     "output_type": "execute_result"
    },
    {
     "data": {
      "image/png": "[encoded data removed]",
      "text/plain": [
       "<Figure size 432x288 with 1 Axes>"
      ]
     },
     "metadata": {
      "needs_background": "light"
     },
     "output_type": "display_data"
    }
   ],
   "source": [
    "# Box Plot\n",
    "import seaborn as sns\n",
    "sns.boxplot(pdf['no_of_positions'])"
   ]
  },
  {
   "cell_type": "code",
   "execution_count": 97,
   "metadata": {},
   "outputs": [
    {
     "name": "stdout",
     "output_type": "stream",
     "text": [
      "Old Shape:  (2915, 30)\n",
      "New Shape:  (2584, 30)\n"
     ]
    }
   ],
   "source": [
    "''' Detection '''\n",
    "# IQR\n",
    "Q1 = np.percentile(pdf['salary_range_from'], 25,\n",
    "                   interpolation = 'midpoint')\n",
    " \n",
    "Q3 = np.percentile(pdf['salary_range_from'], 75,\n",
    "                   interpolation = 'midpoint')\n",
    "IQR = Q3 - Q1\n",
    " \n",
    "print(\"Old Shape: \", pdf.shape)\n",
    " \n",
    "# Upper bound\n",
    "upper = np.where(pdf['salary_range_from'] >= (Q3+1.5*IQR))\n",
    "# Lower bound\n",
    "lower = np.where(pdf['salary_range_from'] <= (Q1-1.5*IQR))\n",
    " \n",
    "''' Removing the Outliers '''\n",
    "pdf.drop(upper[0], inplace = True)\n",
    "pdf.drop(lower[0], inplace = True)\n",
    " \n",
    "print(\"New Shape: \", pdf.shape)"
   ]
  },
  {
   "cell_type": "code",
   "execution_count": 98,
   "metadata": {},
   "outputs": [],
   "source": [
    "df=spark.createDataFrame(pdf)"
   ]
  },
  {
   "cell_type": "markdown",
   "metadata": {},
   "source": [
    "### C. One-Hot Encoding"
   ]
  },
  {
   "cell_type": "code",
   "execution_count": 99,
   "metadata": {},
   "outputs": [
    {
     "data": {
      "text/plain": [
       "['job_id',\n",
       " 'agency',\n",
       " 'posting_type',\n",
       " 'no_of_positions',\n",
       " 'business_title',\n",
       " 'civil_service_title',\n",
       " 'title_code_no',\n",
       " 'level',\n",
       " 'job_category',\n",
       " 'full-time/part-time_indicator',\n",
       " 'salary_range_from',\n",
       " 'salary_range_to',\n",
       " 'salary_frequency',\n",
       " 'work_location',\n",
       " 'division/work_unit',\n",
       " 'job_description',\n",
       " 'minimum_qual_requirements',\n",
       " 'preferred_skills',\n",
       " 'additional_information',\n",
       " 'to_apply',\n",
       " 'hours/shift',\n",
       " 'work_location_1',\n",
       " 'residency_requirement',\n",
       " 'posting_date',\n",
       " 'post_until',\n",
       " 'posting_updated',\n",
       " 'process_date',\n",
       " 'current_date',\n",
       " 'posting_year',\n",
       " 'years_old_job']"
      ]
     },
     "execution_count": 99,
     "metadata": {},
     "output_type": "execute_result"
    }
   ],
   "source": [
    "df.columns"
   ]
  },
  {
   "cell_type": "code",
   "execution_count": 100,
   "metadata": {},
   "outputs": [
    {
     "name": "stdout",
     "output_type": "stream",
     "text": [
      "22/08/28 11:55:10 WARN TaskSetManager: Stage 114 contains a task of very large size (1712 KiB). The maximum recommended task size is 1000 KiB.\n"
     ]
    },
    {
     "name": "stderr",
     "output_type": "stream",
     "text": [
      "\r",
      "[Stage 114:>                                                        (0 + 8) / 8]\r",
      "\r",
      "                                                                                \r"
     ]
    }
   ],
   "source": [
    "from pyspark.ml.feature import StringIndexer\n",
    "indexer = StringIndexer(inputCol='posting_type', outputCol='posting_type_numeric')\n",
    "df_indexed = indexer.fit(df).transform(df)\n",
    "# df_indexed.show()"
   ]
  },
  {
   "cell_type": "code",
   "execution_count": 101,
   "metadata": {},
   "outputs": [
    {
     "name": "stdout",
     "output_type": "stream",
     "text": [
      "22/08/28 11:55:15 WARN TaskSetManager: Stage 117 contains a task of very large size (1712 KiB). The maximum recommended task size is 1000 KiB.\n",
      "+------------+--------------------+\n",
      "|posting_type|posting_type_numeric|\n",
      "+------------+--------------------+\n",
      "|    External|                 1.0|\n",
      "|    Internal|                 0.0|\n",
      "|    Internal|                 0.0|\n",
      "|    Internal|                 0.0|\n",
      "|    Internal|                 0.0|\n",
      "|    Internal|                 0.0|\n",
      "|    External|                 1.0|\n",
      "|    Internal|                 0.0|\n",
      "|    External|                 1.0|\n",
      "|    External|                 1.0|\n",
      "|    Internal|                 0.0|\n",
      "|    Internal|                 0.0|\n",
      "|    Internal|                 0.0|\n",
      "|    External|                 1.0|\n",
      "|    Internal|                 0.0|\n",
      "|    External|                 1.0|\n",
      "|    External|                 1.0|\n",
      "|    Internal|                 0.0|\n",
      "|    Internal|                 0.0|\n",
      "|    External|                 1.0|\n",
      "+------------+--------------------+\n",
      "only showing top 20 rows\n",
      "\n"
     ]
    }
   ],
   "source": [
    "df_indexed.select('posting_type','posting_type_numeric').show()"
   ]
  },
  {
   "cell_type": "code",
   "execution_count": 102,
   "metadata": {},
   "outputs": [],
   "source": [
    "from pyspark.ml.feature import OneHotEncoder\n",
    "encoder = OneHotEncoder(inputCol=\"posting_type_numeric\", outputCol=\"posting_type_onehot\")\n",
    "encoder.setDropLast(False)\n",
    "ohe = encoder.fit(df_indexed) # indexer is the existing dataframe, see the question\n",
    "indexer = ohe.transform(df_indexed)"
   ]
  },
  {
   "cell_type": "code",
   "execution_count": 57,
   "metadata": {},
   "outputs": [
    {
     "name": "stdout",
     "output_type": "stream",
     "text": [
      "+------+--------------------+-------------------+\n",
      "|job_id|posting_type_numeric|posting_type_onehot|\n",
      "+------+--------------------+-------------------+\n",
      "|306957|                 1.0|      (2,[1],[1.0])|\n",
      "|355745|                 0.0|      (2,[0],[1.0])|\n",
      "|376556|                 0.0|      (2,[0],[1.0])|\n",
      "|160910|                 0.0|      (2,[0],[1.0])|\n",
      "|234921|                 0.0|      (2,[0],[1.0])|\n",
      "|245324|                 0.0|      (2,[0],[1.0])|\n",
      "|289955|                 1.0|      (2,[1],[1.0])|\n",
      "|276892|                 0.0|      (2,[0],[1.0])|\n",
      "|289947|                 1.0|      (2,[1],[1.0])|\n",
      "|302669|                 1.0|      (2,[1],[1.0])|\n",
      "|291665|                 1.0|      (2,[1],[1.0])|\n",
      "|226045|                 0.0|      (2,[0],[1.0])|\n",
      "|292091|                 0.0|      (2,[0],[1.0])|\n",
      "|252119|                 0.0|      (2,[0],[1.0])|\n",
      "|274055|                 1.0|      (2,[1],[1.0])|\n",
      "|363130|                 0.0|      (2,[0],[1.0])|\n",
      "|364993|                 1.0|      (2,[1],[1.0])|\n",
      "|373929|                 1.0|      (2,[1],[1.0])|\n",
      "|379096|                 1.0|      (2,[1],[1.0])|\n",
      "|381282|                 0.0|      (2,[0],[1.0])|\n",
      "+------+--------------------+-------------------+\n",
      "only showing top 20 rows\n",
      "\n"
     ]
    }
   ],
   "source": [
    "indexer.select('job_id','posting_type_numeric','posting_type_onehot').show()"
   ]
  },
  {
   "cell_type": "markdown",
   "metadata": {},
   "source": [
    "## 3. Features removal based on the exploration/ profiling."
   ]
  },
  {
   "cell_type": "code",
   "execution_count": 103,
   "metadata": {},
   "outputs": [
    {
     "data": {
      "text/plain": [
       "['job_id',\n",
       " 'agency',\n",
       " 'posting_type',\n",
       " 'no_of_positions',\n",
       " 'business_title',\n",
       " 'civil_service_title',\n",
       " 'title_code_no',\n",
       " 'level',\n",
       " 'job_category',\n",
       " 'full-time/part-time_indicator',\n",
       " 'salary_range_from',\n",
       " 'salary_range_to',\n",
       " 'salary_frequency',\n",
       " 'work_location',\n",
       " 'division/work_unit',\n",
       " 'job_description',\n",
       " 'minimum_qual_requirements',\n",
       " 'preferred_skills',\n",
       " 'additional_information',\n",
       " 'to_apply',\n",
       " 'hours/shift',\n",
       " 'work_location_1',\n",
       " 'residency_requirement',\n",
       " 'posting_date',\n",
       " 'post_until',\n",
       " 'posting_updated',\n",
       " 'process_date',\n",
       " 'current_date',\n",
       " 'posting_year',\n",
       " 'years_old_job',\n",
       " 'posting_type_numeric',\n",
       " 'posting_type_onehot']"
      ]
     },
     "execution_count": 103,
     "metadata": {},
     "output_type": "execute_result"
    }
   ],
   "source": [
    "indexer.columns"
   ]
  },
  {
   "cell_type": "markdown",
   "metadata": {},
   "source": [
    "### Id Column - ID Column Dropped\n",
    "### Null column - recruitment_contact - Column is completelt Null \n",
    "### Zero/Low Variance - There is no Variable with Zero or Constant Variable to be dropped."
   ]
  },
  {
   "cell_type": "code",
   "execution_count": 104,
   "metadata": {},
   "outputs": [],
   "source": [
    "df=indexer.drop('job_id','recruitment_contact')"
   ]
  },
  {
   "cell_type": "code",
   "execution_count": 105,
   "metadata": {},
   "outputs": [
    {
     "name": "stdout",
     "output_type": "stream",
     "text": [
      "root\n",
      " |-- agency: string (nullable = true)\n",
      " |-- posting_type: string (nullable = true)\n",
      " |-- no_of_positions: long (nullable = true)\n",
      " |-- business_title: string (nullable = true)\n",
      " |-- civil_service_title: string (nullable = true)\n",
      " |-- title_code_no: string (nullable = true)\n",
      " |-- level: string (nullable = true)\n",
      " |-- job_category: string (nullable = true)\n",
      " |-- full-time/part-time_indicator: string (nullable = true)\n",
      " |-- salary_range_from: double (nullable = true)\n",
      " |-- salary_range_to: double (nullable = true)\n",
      " |-- salary_frequency: string (nullable = true)\n",
      " |-- work_location: string (nullable = true)\n",
      " |-- division/work_unit: string (nullable = true)\n",
      " |-- job_description: string (nullable = true)\n",
      " |-- minimum_qual_requirements: string (nullable = true)\n",
      " |-- preferred_skills: string (nullable = true)\n",
      " |-- additional_information: string (nullable = true)\n",
      " |-- to_apply: string (nullable = true)\n",
      " |-- hours/shift: string (nullable = true)\n",
      " |-- work_location_1: string (nullable = true)\n",
      " |-- residency_requirement: string (nullable = true)\n",
      " |-- posting_date: timestamp (nullable = true)\n",
      " |-- post_until: timestamp (nullable = true)\n",
      " |-- posting_updated: timestamp (nullable = true)\n",
      " |-- process_date: timestamp (nullable = true)\n",
      " |-- current_date: date (nullable = true)\n",
      " |-- posting_year: double (nullable = true)\n",
      " |-- years_old_job: double (nullable = true)\n",
      " |-- posting_type_numeric: double (nullable = false)\n",
      " |-- posting_type_onehot: vector (nullable = true)\n",
      "\n"
     ]
    }
   ],
   "source": [
    "df.printSchema()"
   ]
  },
  {
   "cell_type": "code",
   "execution_count": 107,
   "metadata": {},
   "outputs": [
    {
     "data": {
      "text/plain": [
       "31"
      ]
     },
     "execution_count": 107,
     "metadata": {},
     "output_type": "execute_result"
    }
   ],
   "source": [
    "len(df.columns)"
   ]
  },
  {
   "cell_type": "markdown",
   "metadata": {},
   "source": [
    "## 4. Store your processed data into a target file"
   ]
  },
  {
   "cell_type": "code",
   "execution_count": 112,
   "metadata": {},
   "outputs": [],
   "source": [
    "df.coalesce(1).write.mode('overwrite').parquet(output_path+'processed/')"
   ]
  }
 ],
 "metadata": {
  "kernelspec": {
   "display_name": "Python 3 (ipykernel)",
   "language": "python",
   "name": "python3"
  },
  "language_info": {
   "codemirror_mode": {
    "name": "ipython",
    "version": 3
   },
   "file_extension": ".py",
   "mimetype": "text/x-python",
   "name": "python",
   "nbconvert_exporter": "python",
   "pygments_lexer": "ipython3",
   "version": "3.9.7"
  }
 },
 "nbformat": 4,
 "nbformat_minor": 4
}
