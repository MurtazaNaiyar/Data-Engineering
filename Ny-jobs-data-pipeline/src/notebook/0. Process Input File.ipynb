{
 "cells": [
  {
   "cell_type": "code",
   "execution_count": 2,
   "metadata": {},
   "outputs": [],
   "source": [
    "import sys\n",
    "sys.path.insert(0, '..')"
   ]
  },
  {
   "cell_type": "code",
   "execution_count": 3,
   "metadata": {},
   "outputs": [],
   "source": [
    "import findspark\n",
    "findspark.init()"
   ]
  },
  {
   "cell_type": "code",
   "execution_count": 4,
   "metadata": {},
   "outputs": [],
   "source": [
    "%load_ext autoreload\n",
    "%autoreload 2\n",
    "\n",
    "import os \n",
    "import sys\n",
    "from pyspark.sql import DataFrame\n",
    "from pyspark.sql import functions as f\n",
    "from utils.utilities import clean_columns\n",
    "from utils.utilities import remove_duplicates\n",
    "from pyspark.sql.functions import regexp_replace\n",
    "from utils.utilities import read_file,write_output,clean_str_cols"
   ]
  },
  {
   "cell_type": "markdown",
   "metadata": {},
   "source": [
    "## Spark Session"
   ]
  },
  {
   "cell_type": "code",
   "execution_count": 5,
   "metadata": {},
   "outputs": [],
   "source": [
    "from pyspark.sql import SparkSession\n",
    "\n",
    "spark = SparkSession.builder. \\\n",
    "    appName(\"Process-Input-File\"). \\\n",
    "    getOrCreate()"
   ]
  },
  {
   "cell_type": "markdown",
   "metadata": {},
   "source": [
    "## Variables"
   ]
  },
  {
   "cell_type": "code",
   "execution_count": 6,
   "metadata": {},
   "outputs": [],
   "source": [
    "input_path=\"/dataset/nyc-jobs.csv\"\n",
    "output_path='/dataset/output/'"
   ]
  },
  {
   "cell_type": "markdown",
   "metadata": {},
   "source": [
    "### Read Source CSV File"
   ]
  },
  {
   "cell_type": "code",
   "execution_count": 8,
   "metadata": {},
   "outputs": [],
   "source": [
    "df=read_file(input_path)"
   ]
  },
  {
   "cell_type": "code",
   "execution_count": 7,
   "metadata": {},
   "outputs": [
    {
     "data": {
      "text/plain": [
       "pyspark.sql.dataframe.DataFrame"
      ]
     },
     "execution_count": 7,
     "metadata": {},
     "output_type": "execute_result"
    }
   ],
   "source": [
    "type(df)"
   ]
  },
  {
   "cell_type": "code",
   "execution_count": 8,
   "metadata": {},
   "outputs": [
    {
     "name": "stdout",
     "output_type": "stream",
     "text": [
      "root\n",
      " |-- Job ID: integer (nullable = true)\n",
      " |-- Agency: string (nullable = true)\n",
      " |-- Posting Type: string (nullable = true)\n",
      " |-- # Of Positions: integer (nullable = true)\n",
      " |-- Business Title: string (nullable = true)\n",
      " |-- Civil Service Title: string (nullable = true)\n",
      " |-- Title Code No: string (nullable = true)\n",
      " |-- Level: string (nullable = true)\n",
      " |-- Job Category: string (nullable = true)\n",
      " |-- Full-Time/Part-Time indicator: string (nullable = true)\n",
      " |-- Salary Range From: double (nullable = true)\n",
      " |-- Salary Range To: double (nullable = true)\n",
      " |-- Salary Frequency: string (nullable = true)\n",
      " |-- Work Location: string (nullable = true)\n",
      " |-- Division/Work Unit: string (nullable = true)\n",
      " |-- Job Description: string (nullable = true)\n",
      " |-- Minimum Qual Requirements: string (nullable = true)\n",
      " |-- Preferred Skills: string (nullable = true)\n",
      " |-- Additional Information: string (nullable = true)\n",
      " |-- To Apply: string (nullable = true)\n",
      " |-- Hours/Shift: string (nullable = true)\n",
      " |-- Work Location 1: string (nullable = true)\n",
      " |-- Recruitment Contact: string (nullable = true)\n",
      " |-- Residency Requirement: string (nullable = true)\n",
      " |-- Posting Date: timestamp (nullable = true)\n",
      " |-- Post Until: timestamp (nullable = true)\n",
      " |-- Posting Updated: timestamp (nullable = true)\n",
      " |-- Process Date: timestamp (nullable = true)\n",
      "\n"
     ]
    }
   ],
   "source": [
    "df.printSchema()"
   ]
  },
  {
   "cell_type": "code",
   "execution_count": 10,
   "metadata": {},
   "outputs": [
    {
     "name": "stdout",
     "output_type": "stream",
     "text": [
      "Raw file have total 2946 rows and 28 columns\n"
     ]
    }
   ],
   "source": [
    "print(f\"Raw file have total {df.count()} rows and {len(df.columns)} columns\")"
   ]
  },
  {
   "cell_type": "markdown",
   "metadata": {},
   "source": [
    "### Clean Column Names\n",
    "\n"
   ]
  },
  {
   "cell_type": "code",
   "execution_count": 11,
   "metadata": {},
   "outputs": [],
   "source": [
    "df=clean_columns(df)"
   ]
  },
  {
   "cell_type": "markdown",
   "metadata": {},
   "source": [
    "### Clean Data\n"
   ]
  },
  {
   "cell_type": "code",
   "execution_count": 12,
   "metadata": {},
   "outputs": [],
   "source": [
    "df=remove_duplicates(df)"
   ]
  },
  {
   "cell_type": "code",
   "execution_count": 13,
   "metadata": {},
   "outputs": [
    {
     "name": "stdout",
     "output_type": "stream",
     "text": [
      "root\n",
      " |-- job_id: integer (nullable = true)\n",
      " |-- agency: string (nullable = true)\n",
      " |-- posting_type: string (nullable = true)\n",
      " |-- no_of_positions: integer (nullable = true)\n",
      " |-- business_title: string (nullable = true)\n",
      " |-- civil_service_title: string (nullable = true)\n",
      " |-- title_code_no: string (nullable = true)\n",
      " |-- level: string (nullable = true)\n",
      " |-- job_category: string (nullable = true)\n",
      " |-- full-time/part-time_indicator: string (nullable = true)\n",
      " |-- salary_range_from: double (nullable = true)\n",
      " |-- salary_range_to: double (nullable = true)\n",
      " |-- salary_frequency: string (nullable = true)\n",
      " |-- work_location: string (nullable = true)\n",
      " |-- division/work_unit: string (nullable = true)\n",
      " |-- job_description: string (nullable = true)\n",
      " |-- minimum_qual_requirements: string (nullable = true)\n",
      " |-- preferred_skills: string (nullable = true)\n",
      " |-- additional_information: string (nullable = true)\n",
      " |-- to_apply: string (nullable = true)\n",
      " |-- hours/shift: string (nullable = true)\n",
      " |-- work_location_1: string (nullable = true)\n",
      " |-- recruitment_contact: string (nullable = true)\n",
      " |-- residency_requirement: string (nullable = true)\n",
      " |-- posting_date: timestamp (nullable = true)\n",
      " |-- post_until: timestamp (nullable = true)\n",
      " |-- posting_updated: timestamp (nullable = true)\n",
      " |-- process_date: timestamp (nullable = true)\n",
      "\n"
     ]
    }
   ],
   "source": [
    "df.printSchema()"
   ]
  },
  {
   "cell_type": "code",
   "execution_count": 15,
   "metadata": {},
   "outputs": [
    {
     "name": "stdout",
     "output_type": "stream",
     "text": [
      "Raw file have total 2915 unique rows and 28 columns\n"
     ]
    }
   ],
   "source": [
    "print(f\"Raw file have total {df.count()} unique rows and {len(df.columns)} columns\")"
   ]
  },
  {
   "cell_type": "code",
   "execution_count": 16,
   "metadata": {},
   "outputs": [
    {
     "data": {
      "text/plain": [
       "['job_id',\n",
       " 'agency',\n",
       " 'posting_type',\n",
       " 'no_of_positions',\n",
       " 'business_title',\n",
       " 'civil_service_title',\n",
       " 'title_code_no',\n",
       " 'level',\n",
       " 'job_category',\n",
       " 'full-time/part-time_indicator',\n",
       " 'salary_range_from',\n",
       " 'salary_range_to',\n",
       " 'salary_frequency',\n",
       " 'work_location',\n",
       " 'division/work_unit',\n",
       " 'job_description',\n",
       " 'minimum_qual_requirements',\n",
       " 'preferred_skills',\n",
       " 'additional_information',\n",
       " 'to_apply',\n",
       " 'hours/shift',\n",
       " 'work_location_1',\n",
       " 'recruitment_contact',\n",
       " 'residency_requirement',\n",
       " 'posting_date',\n",
       " 'post_until',\n",
       " 'posting_updated',\n",
       " 'process_date']"
      ]
     },
     "execution_count": 16,
     "metadata": {},
     "output_type": "execute_result"
    }
   ],
   "source": [
    "df.columns"
   ]
  },
  {
   "cell_type": "code",
   "execution_count": 17,
   "metadata": {},
   "outputs": [],
   "source": [
    "cl_columns=['civil_service_title','job_description','minimum_qual_requirements','preferred_skills','additional_information','to_apply','hours/shift']"
   ]
  },
  {
   "cell_type": "markdown",
   "metadata": {},
   "source": [
    "## Clean String Columns"
   ]
  },
  {
   "cell_type": "code",
   "execution_count": 20,
   "metadata": {},
   "outputs": [],
   "source": [
    "df=clean_str_cols(df,cl_columns)"
   ]
  },
  {
   "cell_type": "markdown",
   "metadata": {},
   "source": [
    "## Write Cleaned Csv File to Output Location"
   ]
  },
  {
   "cell_type": "code",
   "execution_count": 21,
   "metadata": {},
   "outputs": [],
   "source": [
    "write_output(df,output_path+'cleaned/')"
   ]
  },
  {
   "cell_type": "code",
   "execution_count": null,
   "metadata": {},
   "outputs": [],
   "source": []
  }
 ],
 "metadata": {
  "kernelspec": {
   "display_name": "Python 3 (ipykernel)",
   "language": "python",
   "name": "python3"
  },
  "language_info": {
   "codemirror_mode": {
    "name": "ipython",
    "version": 3
   },
   "file_extension": ".py",
   "mimetype": "text/x-python",
   "name": "python",
   "nbconvert_exporter": "python",
   "pygments_lexer": "ipython3",
   "version": "3.9.7"
  }
 },
 "nbformat": 4,
 "nbformat_minor": 4
}
