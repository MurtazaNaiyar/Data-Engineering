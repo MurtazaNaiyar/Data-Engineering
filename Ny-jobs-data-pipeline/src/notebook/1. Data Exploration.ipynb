{
 "cells": [
  {
   "cell_type": "code",
   "execution_count": 4,
   "metadata": {},
   "outputs": [],
   "source": [
    "import sys\n",
    "sys.path.insert(0, '..')"
   ]
  },
  {
   "cell_type": "code",
   "execution_count": 5,
   "metadata": {},
   "outputs": [],
   "source": [
    "import findspark\n",
    "findspark.init()"
   ]
  },
  {
   "cell_type": "code",
   "execution_count": 6,
   "metadata": {},
   "outputs": [],
   "source": [
    "%load_ext autoreload\n",
    "%autoreload 2\n",
    "import os\n",
    "import sys\n",
    "import numpy as np\n",
    "import pandas as pd\n",
    "from utils.utilities import read_file,write_output\n",
    "from utils.distinct_values import get_distinct_values"
   ]
  },
  {
   "cell_type": "code",
   "execution_count": 7,
   "metadata": {},
   "outputs": [
    {
     "name": "stdout",
     "output_type": "stream",
     "text": [
      "22/08/28 12:03:54 WARN SparkSession: Using an existing Spark session; only runtime SQL configurations will take effect.\n"
     ]
    }
   ],
   "source": [
    "from pyspark.sql import SparkSession\n",
    "\n",
    "spark = SparkSession.builder. \\\n",
    "    appName(\"Data-Exploration\"). \\\n",
    "    getOrCreate()\n",
    "spark.conf.set(\"spark.debug.maxToStringFields\", 100000)\n",
    "spark.conf.set(\"spark.sql.debug.maxToStringFields\", 100000)"
   ]
  },
  {
   "cell_type": "markdown",
   "metadata": {},
   "source": [
    "## Variables"
   ]
  },
  {
   "cell_type": "code",
   "execution_count": 8,
   "metadata": {},
   "outputs": [],
   "source": [
    "input_path=\"/dataset/output/cleaned/\"\n",
    "output_path='/dataset/output/'"
   ]
  },
  {
   "cell_type": "markdown",
   "metadata": {},
   "source": [
    "### Read data"
   ]
  },
  {
   "cell_type": "code",
   "execution_count": 9,
   "metadata": {},
   "outputs": [],
   "source": [
    "df=read_file(input_path)"
   ]
  },
  {
   "cell_type": "code",
   "execution_count": 10,
   "metadata": {},
   "outputs": [
    {
     "name": "stdout",
     "output_type": "stream",
     "text": [
      "root\n",
      " |-- job_id: string (nullable = true)\n",
      " |-- agency: string (nullable = true)\n",
      " |-- posting_type: string (nullable = true)\n",
      " |-- no_of_positions: string (nullable = true)\n",
      " |-- business_title: string (nullable = true)\n",
      " |-- civil_service_title: string (nullable = true)\n",
      " |-- title_code_no: string (nullable = true)\n",
      " |-- level: string (nullable = true)\n",
      " |-- job_category: string (nullable = true)\n",
      " |-- full-time/part-time_indicator: string (nullable = true)\n",
      " |-- salary_range_from: string (nullable = true)\n",
      " |-- salary_range_to: string (nullable = true)\n",
      " |-- salary_frequency: string (nullable = true)\n",
      " |-- work_location: string (nullable = true)\n",
      " |-- division/work_unit: string (nullable = true)\n",
      " |-- job_description: string (nullable = true)\n",
      " |-- minimum_qual_requirements: string (nullable = true)\n",
      " |-- preferred_skills: string (nullable = true)\n",
      " |-- additional_information: string (nullable = true)\n",
      " |-- to_apply: string (nullable = true)\n",
      " |-- hours/shift: string (nullable = true)\n",
      " |-- work_location_1: string (nullable = true)\n",
      " |-- recruitment_contact: string (nullable = true)\n",
      " |-- residency_requirement: string (nullable = true)\n",
      " |-- posting_date: string (nullable = true)\n",
      " |-- post_until: string (nullable = true)\n",
      " |-- posting_updated: string (nullable = true)\n",
      " |-- process_date: string (nullable = true)\n",
      "\n"
     ]
    }
   ],
   "source": [
    "df.printSchema()"
   ]
  },
  {
   "cell_type": "markdown",
   "metadata": {},
   "source": [
    "# Data Exploration"
   ]
  },
  {
   "cell_type": "markdown",
   "metadata": {},
   "source": [
    "\n",
    "## Provide a detailed analysis of source data: Column values (eg: Numerical vs character), categorical columns, etc."
   ]
  },
  {
   "cell_type": "code",
   "execution_count": 8,
   "metadata": {},
   "outputs": [
    {
     "data": {
      "text/plain": [
       "Row(job_id=229124, agency='DEPT OF HEALTH/MENTAL HYGIENE', posting_type='External', no_of_positions=1, business_title='HIV Program Associate, Bureau of STD Prevention and Control', civil_service_title='SUPERVISING PUBLIC HEALTH ADVI', title_code_no='51193', level='0', job_category='Health', full-time/part-time_indicator='F', salary_range_from=48900.0, salary_range_to=69042.0, salary_frequency='Annual', work_location='42-09 28th Street', division/work_unit='STI Administration', job_description='The Bureau of Sexually Transmitted Disease Control BSTDC has the mission of improving the sexual health of all New Yorkers To achieve this the Bureau provides direct clinical services to people seeking sexual health care and services to sex partners monitors disease trends provides education and training to providers and community groups conducts research and develop policies to improve sexual health and wellness The BSTDC operates 8 STD clinics throughout New York City NYC Primary responsibilities include -- Manage patient referrals to Field Services Unit -- Monitor follow-up activities to assure complete accurate timely entries and assisting in the case review of patients enrolled in one of the HIV programs within the STD clinic -- Maintain liaison with health care providers and others including public and private agencies to expedite the efficient follow up and treatment of patients enrolled in program -- Assist in the supervision of the delegation of work and establishment of deadlines -- Perform other duties as assigned', minimum_qual_requirements='1 A baccalaureate degree from an accredited college or university and two years of full-time satisfactory experience in a public health program performing duties involving case finding case management interviewing investigating and other related public health work one year of which must have been in a supervisory capacity or 2 An associate degree from an accredited college or university including or supplemented by twelve semester credits in health education or in health social or biological sciences and four years of experience as described in 1 above one year of which must have been in a supervisory capacity or 3 A four-year high school diploma or its educational equivalent approved by a State s Department of Education or a recognized accrediting organization and six years of experience as described in 1 above one year of which must have been in a supervisory capacity or 4 A satisfactory combination of education and/or experience equivalent to 1 2 or 3 above Undergraduate college credit may be substituted for experience on the basis of 30 semester credits from an accredited college for one year of full-time experience Twelve credits in the health social or biological sciences may be substituted for an additional six months of experience However all candidates must have a four-year high school diploma or its educational equivalent approved by a State s Department of Education or a recognized accrediting organization and a minimum of two years of experience one year of which must have been in a supervisory capacity as described in 1 above', preferred_skills='Spanish speaking applicants encouraged to apply supervisory experience required - Experience working with HIV patients racial/ethnic minorities LGBT populations', additional_information=None, to_apply='Apply online with a cover letter to https //a127-jobs nyc gov/ In the Job ID search bar enter job ID number 229124 We appreciate the interest and thank all applicants who apply but only those candidates under consideration will be contacted', hours/shift=None, work_location_1='42-09 28th Street', recruitment_contact=None, residency_requirement='New York City residency is generally required within 90 days of appointment. However, City Employees in certain titles who have worked for the City for 2 continuous years may also be eligible to reside in Nassau, Suffolk, Putnam, Westchester, Rockland, or Orange County. To determine if the residency requirement applies to you, please discuss with the agency representative at the time of interview.', posting_date=datetime.datetime(2016, 1, 21, 0, 0), post_until=None, posting_updated=datetime.datetime(2016, 2, 3, 0, 0), process_date=datetime.datetime(2019, 12, 17, 0, 0))"
      ]
     },
     "execution_count": 8,
     "metadata": {},
     "output_type": "execute_result"
    }
   ],
   "source": [
    "df.head()"
   ]
  },
  {
   "cell_type": "markdown",
   "metadata": {},
   "source": [
    "### Check Data Type Of Each Column"
   ]
  },
  {
   "cell_type": "code",
   "execution_count": 9,
   "metadata": {},
   "outputs": [
    {
     "data": {
      "text/plain": [
       "[('job_id', 'int'),\n",
       " ('agency', 'string'),\n",
       " ('posting_type', 'string'),\n",
       " ('no_of_positions', 'int'),\n",
       " ('business_title', 'string'),\n",
       " ('civil_service_title', 'string'),\n",
       " ('title_code_no', 'string'),\n",
       " ('level', 'string'),\n",
       " ('job_category', 'string'),\n",
       " ('full-time/part-time_indicator', 'string'),\n",
       " ('salary_range_from', 'double'),\n",
       " ('salary_range_to', 'double'),\n",
       " ('salary_frequency', 'string'),\n",
       " ('work_location', 'string'),\n",
       " ('division/work_unit', 'string'),\n",
       " ('job_description', 'string'),\n",
       " ('minimum_qual_requirements', 'string'),\n",
       " ('preferred_skills', 'string'),\n",
       " ('additional_information', 'string'),\n",
       " ('to_apply', 'string'),\n",
       " ('hours/shift', 'string'),\n",
       " ('work_location_1', 'string'),\n",
       " ('recruitment_contact', 'string'),\n",
       " ('residency_requirement', 'string'),\n",
       " ('posting_date', 'timestamp'),\n",
       " ('post_until', 'timestamp'),\n",
       " ('posting_updated', 'timestamp'),\n",
       " ('process_date', 'timestamp')]"
      ]
     },
     "execution_count": 9,
     "metadata": {},
     "output_type": "execute_result"
    }
   ],
   "source": [
    "df.dtypes"
   ]
  },
  {
   "cell_type": "markdown",
   "metadata": {},
   "source": [
    "### Get Number Of Records"
   ]
  },
  {
   "cell_type": "code",
   "execution_count": 13,
   "metadata": {},
   "outputs": [
    {
     "data": {
      "text/plain": [
       "2915"
      ]
     },
     "execution_count": 13,
     "metadata": {},
     "output_type": "execute_result"
    }
   ],
   "source": [
    "df.count()"
   ]
  },
  {
   "cell_type": "markdown",
   "metadata": {},
   "source": [
    "### Summary Statisticss of Data"
   ]
  },
  {
   "cell_type": "code",
   "execution_count": 14,
   "metadata": {},
   "outputs": [
    {
     "name": "stderr",
     "output_type": "stream",
     "text": [
      "[Stage 4:==============>                                            (1 + 3) / 4]\r"
     ]
    },
    {
     "name": "stdout",
     "output_type": "stream",
     "text": [
      "22/08/28 03:11:38 WARN package: Truncated the string representation of a plan since it was too large. This behavior can be adjusted by setting 'spark.sql.debug.maxToStringFields'.\n",
      "+-------+-----------------+--------------------+------------+------------------+--------------------+--------------------+-----------------+------------------+--------------------+-----------------------------+------------------+-----------------+----------------+------------------+--------------------+--------------------+-------------------------+--------------------+----------------------+--------------------+--------------------+--------------------+-------------------+---------------------+--------------------+--------------------+--------------------+--------------------+\n",
      "|summary|           job_id|              agency|posting_type|   no_of_positions|      business_title| civil_service_title|    title_code_no|             level|        job_category|full-time/part-time_indicator| salary_range_from|  salary_range_to|salary_frequency|     work_location|  division/work_unit|     job_description|minimum_qual_requirements|    preferred_skills|additional_information|            to_apply|         hours/shift|     work_location_1|recruitment_contact|residency_requirement|        posting_date|          post_until|     posting_updated|        process_date|\n",
      "+-------+-----------------+--------------------+------------+------------------+--------------------+--------------------+-----------------+------------------+--------------------+-----------------------------+------------------+-----------------+----------------+------------------+--------------------+--------------------+-------------------------+--------------------+----------------------+--------------------+--------------------+--------------------+-------------------+---------------------+--------------------+--------------------+--------------------+--------------------+\n",
      "|  count|             2915|                2915|        2915|              2915|                2915|                2915|             2915|              2915|                2913|                         2722|              2915|             2915|            2915|              2915|                2915|                2915|                     2895|                2528|                  1828|                2914|                 876|                1337|                  0|                 2911|                2911|                 863|                2911|                2911|\n",
      "|   mean|384863.0401372213|                null|        null|2.4363636363636365|                null|                null|35536.76237989653|1.0541530944625408|                null|                         null|58925.987438319025|85653.82161382503|            null|              null|                null|                null|                     null|                null|                  null|                null|                null|                null|               null|                 null|                null|                null|                null|                null|\n",
      "| stddev|53017.48027901094|                null|        null|  8.58105496276755|                null|                null|28113.97066878542|1.1402285900872395|                null|                         null|27018.915415806183|42923.02678547604|            null|              null|                null|                null|                     null|                null|                  null|                null|                null|                null|               null|                 null|                null|                null|                null|                null|\n",
      "|    min|           132292|ADMIN FOR CHILDRE...|    External|                 1|      .NET DEVELOPER|          ACCOUNTANT|            0527A|                 0|Administration & ...|                            F|               0.0|            10.36|          Annual|1 Bay St., S.I.,Ny|10th Precinct - C...|1 Assist in manag...|     1 A Baccalaureate...|- 5-7 Years of ex...|  - This position i...|1 Apply through E...|09 00am 17 00pm M...|**Please note, th...|               null| **A person servin...|2011-06-24T00:00:...|2019-12-18T00:00:...|2011-06-24T00:00:...|2019-12-17T00:00:...|\n",
      "|    25%|         378428.0|                null|        null|               1.0|                null|                null|          12627.0|               0.0|                null|                         null|           49390.0|          62000.0|            null|              null|                null|                null|                     null|                null|                  null|                null|                null|                null|               null|                 null|                null|                null|                null|                null|\n",
      "|    50%|         404425.0|                null|        null|               1.0|                null|                null|          22427.0|               1.0|                null|                         null|           58440.0|          82137.0|            null|              null|                null|                null|                     null|                null|                  null|                null|                null|                null|               null|                 null|                null|                null|                null|                null|\n",
      "|    75%|         419951.0|                null|        null|               1.0|                null|                null|          56057.0|               2.0|                null|                         null|           73305.0|         106222.0|            null|              null|                null|                null|                     null|                null|                  null|                null|                null|                null|               null|                 null|                null|                null|                null|                null|\n",
      "|    max|            97899|TEACHERS RETIREME...|    Internal|                91|executive Vice Pr...|YOUTH COORDINATOR...|            95841|                M7|Technology, Data ...|                            P|           99353.0|          99406.0|          Hourly|     Â Tort: Bronx|              Zoning|Your Team Within ...|     While there are n...|served in APHS Le...|                  \\\"\\\"|please email your...|      Various Shifts|  Wards Island, N.Y.|               null| This position is ...|2019-12-17T00:00:...|2020-12-11T00:00:...|2019-12-16T00:00:...|2019-12-17T00:00:...|\n",
      "+-------+-----------------+--------------------+------------+------------------+--------------------+--------------------+-----------------+------------------+--------------------+-----------------------------+------------------+-----------------+----------------+------------------+--------------------+--------------------+-------------------------+--------------------+----------------------+--------------------+--------------------+--------------------+-------------------+---------------------+--------------------+--------------------+--------------------+--------------------+\n",
      "\n"
     ]
    },
    {
     "name": "stderr",
     "output_type": "stream",
     "text": [
      "\r",
      "                                                                                \r"
     ]
    }
   ],
   "source": [
    "df.summary().show()"
   ]
  },
  {
   "cell_type": "markdown",
   "metadata": {},
   "source": [
    "### Get Total Count of Each Variable and its Unique Count"
   ]
  },
  {
   "cell_type": "code",
   "execution_count": 18,
   "metadata": {},
   "outputs": [],
   "source": [
    "dfp=df.toPandas()"
   ]
  },
  {
   "cell_type": "code",
   "execution_count": 16,
   "metadata": {},
   "outputs": [
    {
     "name": "stdout",
     "output_type": "stream",
     "text": [
      "Shape of data is (2915, 28)\n",
      "--------------------------------------------------------------------------------------------------\n",
      "The feature is :: job_id and Total Count is :::: 2915 and number of unique categories are :: 1661\n",
      "The feature is :: agency and Total Count is :::: 2915 and number of unique categories are :: 52\n",
      "The feature is :: posting_type and Total Count is :::: 2915 and number of unique categories are :: 2\n",
      "The feature is :: no_of_positions and Total Count is :::: 2915 and number of unique categories are :: 34\n",
      "The feature is :: business_title and Total Count is :::: 2915 and number of unique categories are :: 1244\n",
      "The feature is :: civil_service_title and Total Count is :::: 2915 and number of unique categories are :: 311\n",
      "The feature is :: title_code_no and Total Count is :::: 2915 and number of unique categories are :: 323\n",
      "The feature is :: level and Total Count is :::: 2915 and number of unique categories are :: 14\n",
      "The feature is :: job_category and Total Count is :::: 2913 and number of unique categories are :: 130\n",
      "The feature is :: full-time/part-time_indicator and Total Count is :::: 2722 and number of unique categories are :: 2\n",
      "The feature is :: salary_range_from and Total Count is :::: 2915 and number of unique categories are :: 519\n",
      "The feature is :: salary_range_to and Total Count is :::: 2915 and number of unique categories are :: 658\n",
      "The feature is :: salary_frequency and Total Count is :::: 2915 and number of unique categories are :: 3\n",
      "The feature is :: work_location and Total Count is :::: 2915 and number of unique categories are :: 226\n",
      "The feature is :: division/work_unit and Total Count is :::: 2915 and number of unique categories are :: 678\n",
      "The feature is :: job_description and Total Count is :::: 2915 and number of unique categories are :: 1594\n",
      "The feature is :: minimum_qual_requirements and Total Count is :::: 2895 and number of unique categories are :: 314\n",
      "The feature is :: preferred_skills and Total Count is :::: 2528 and number of unique categories are :: 1249\n",
      "The feature is :: additional_information and Total Count is :::: 1828 and number of unique categories are :: 588\n",
      "The feature is :: to_apply and Total Count is :::: 2914 and number of unique categories are :: 833\n",
      "The feature is :: hours/shift and Total Count is :::: 876 and number of unique categories are :: 168\n",
      "The feature is :: work_location_1 and Total Count is :::: 1337 and number of unique categories are :: 227\n",
      "The feature is :: recruitment_contact and Total Count is :::: 0 and number of unique categories are :: 0\n",
      "The feature is :: residency_requirement and Total Count is :::: 2911 and number of unique categories are :: 50\n",
      "The feature is :: posting_date and Total Count is :::: 2911 and number of unique categories are :: 493\n",
      "The feature is :: post_until and Total Count is :::: 863 and number of unique categories are :: 105\n",
      "The feature is :: posting_updated and Total Count is :::: 2911 and number of unique categories are :: 487\n",
      "The feature is :: process_date and Total Count is :::: 2911 and number of unique categories are :: 1\n",
      "---------------------------------------------------------------------------------------------------\n"
     ]
    }
   ],
   "source": [
    "print(f\"Shape of data is {dfp.shape}\")\n",
    "print(\"--------------------------------------------------------------------------------------------------\")\n",
    "for feature in dfp.columns:\n",
    "    print(f\"The feature is :: {feature} and Total Count is :::: {dfp[feature].count()} and number of unique categories are :: {dfp[feature].nunique()}\")\n",
    "print(\"---------------------------------------------------------------------------------------------------\")"
   ]
  },
  {
   "cell_type": "markdown",
   "metadata": {},
   "source": [
    "### Get Unique Values Of least Unique Variables"
   ]
  },
  {
   "cell_type": "code",
   "execution_count": 17,
   "metadata": {},
   "outputs": [
    {
     "data": {
      "text/plain": [
       "['Internal', 'External']"
      ]
     },
     "execution_count": 17,
     "metadata": {},
     "output_type": "execute_result"
    }
   ],
   "source": [
    "get_distinct_values(df, column = 'posting_type')"
   ]
  },
  {
   "cell_type": "code",
   "execution_count": 18,
   "metadata": {},
   "outputs": [
    {
     "data": {
      "text/plain": [
       "['3', 'M4', 'M7', '0', 'M6', 'M1', '4A', 'M5', 'M2', '1', 'M3', '4', '2', '4B']"
      ]
     },
     "execution_count": 18,
     "metadata": {},
     "output_type": "execute_result"
    }
   ],
   "source": [
    "get_distinct_values(df, column = 'level')"
   ]
  },
  {
   "cell_type": "code",
   "execution_count": 19,
   "metadata": {},
   "outputs": [
    {
     "data": {
      "text/plain": [
       "['F', None, 'P']"
      ]
     },
     "execution_count": 19,
     "metadata": {},
     "output_type": "execute_result"
    }
   ],
   "source": [
    "get_distinct_values(df, column = 'full-time/part-time_indicator')"
   ]
  },
  {
   "cell_type": "markdown",
   "metadata": {},
   "source": [
    "## Column Values - Numericals, Categoricals, Strings."
   ]
  },
  {
   "cell_type": "markdown",
   "metadata": {},
   "source": [
    "### Numerical columns"
   ]
  },
  {
   "cell_type": "code",
   "execution_count": 12,
   "metadata": {},
   "outputs": [],
   "source": [
    "numerical_columns=[\"no_of_positions\",\"salary_range_from\",\"salary_range_to\"]"
   ]
  },
  {
   "cell_type": "code",
   "execution_count": 13,
   "metadata": {},
   "outputs": [
    {
     "name": "stdout",
     "output_type": "stream",
     "text": [
      "Numerical Columns are : ['no_of_positions', 'salary_range_from', 'salary_range_to']\n"
     ]
    }
   ],
   "source": [
    "print(f\"Numerical Columns are : {numerical_columns}\")"
   ]
  },
  {
   "cell_type": "markdown",
   "metadata": {},
   "source": [
    "### Categorical columns"
   ]
  },
  {
   "cell_type": "code",
   "execution_count": 24,
   "metadata": {},
   "outputs": [],
   "source": [
    "categorical_columns=[\"agency\",'posting_type','no_of_positions','level','full-time/part-time_indicator','salary_frequency'\n",
    "                     ,'residency_requirement','work_location']"
   ]
  },
  {
   "cell_type": "code",
   "execution_count": 25,
   "metadata": {},
   "outputs": [
    {
     "name": "stdout",
     "output_type": "stream",
     "text": [
      "Categorical Columns are : ['agency', 'posting_type', 'no_of_positions', 'level', 'full-time/part-time_indicator', 'salary_frequency', 'residency_requirement', 'work_location']\n"
     ]
    }
   ],
   "source": [
    "print(f\"Categorical Columns are : {categorical_columns}\")"
   ]
  },
  {
   "cell_type": "markdown",
   "metadata": {},
   "source": [
    "### String columns"
   ]
  },
  {
   "cell_type": "code",
   "execution_count": 24,
   "metadata": {},
   "outputs": [],
   "source": [
    "all_cols=df.columns\n",
    "\n",
    "char1=[x for x in all_cols if x not in numerical_columns]\n",
    "char_columns=[x for x in char1 if x not in categorical_columns]"
   ]
  },
  {
   "cell_type": "code",
   "execution_count": 25,
   "metadata": {},
   "outputs": [
    {
     "name": "stdout",
     "output_type": "stream",
     "text": [
      "String Columns are : ['job_id', 'business_title', 'civil_service_title', 'title_code_no', 'level', 'job_category', 'full-time/part-time_indicator', 'division/work_unit', 'job_description', 'minimum_qual_requirements', 'preferred_skills', 'additional_information', 'to_apply', 'hours/shift', 'work_location_1', 'recruitment_contact', 'posting_date', 'post_until', 'posting_updated', 'process_date']\n"
     ]
    }
   ],
   "source": [
    "print(f\"String Columns are : {char_columns}\")"
   ]
  },
  {
   "cell_type": "code",
   "execution_count": 1,
   "metadata": {},
   "outputs": [],
   "source": [
    "import os\n",
    "import sys\n",
    "import numpy as np\n",
    "%matplotlib inline\n",
    "import pandas as pd\n",
    "import seaborn as sns\n",
    "from numpy import std\n",
    "from numpy import mean\n",
    "import matplotlib.pyplot as plt\n",
    "import matplotlib.ticker as mtick\n",
    "from matplotlib.lines import Line2D\n",
    "from matplotlib.patches import Patch\n",
    "pd.pandas.set_option('display.max_columns',None)"
   ]
  },
  {
   "cell_type": "code",
   "execution_count": 2,
   "metadata": {},
   "outputs": [],
   "source": [
    "sns.set_style(\n",
    "    style='darkgrid', \n",
    "    rc={'axes.facecolor': '.9', 'grid.color': '.8'}\n",
    ")\n",
    "sns.set_palette(palette='deep')\n",
    "sns_c = sns.color_palette(palette='deep')\n",
    "plt.rcParams['figure.figsize'] = [10, 5]\n",
    "plt.rcParams['figure.dpi'] = 100"
   ]
  },
  {
   "cell_type": "code",
   "execution_count": 20,
   "metadata": {},
   "outputs": [
    {
     "data": {
      "text/plain": [
       "<AxesSubplot:>"
      ]
     },
     "execution_count": 20,
     "metadata": {},
     "output_type": "execute_result"
    },
    {
     "data": {
      "image/png": "[encoded data removed]",
      "text/plain": [
       "<Figure size 800x400 with 1 Axes>"
      ]
     },
     "metadata": {},
     "output_type": "display_data"
    }
   ],
   "source": [
    "fig=plt.figure(figsize=(8,4))\n",
    "ax=fig.gca()\n",
    "dfp['posting_type'].hist(ax=ax)"
   ]
  },
  {
   "cell_type": "code",
   "execution_count": 23,
   "metadata": {},
   "outputs": [
    {
     "data": {
      "text/plain": [
       "<AxesSubplot:>"
      ]
     },
     "execution_count": 23,
     "metadata": {},
     "output_type": "execute_result"
    },
    {
     "data": {
      "image/png": "[encoded data removed]",
      "text/plain": [
       "<Figure size 800x400 with 1 Axes>"
      ]
     },
     "metadata": {},
     "output_type": "display_data"
    }
   ],
   "source": [
    "fig=plt.figure(figsize=(8,4))\n",
    "ax=fig.gca()\n",
    "dfp['level'].hist(ax=ax)"
   ]
  },
  {
   "cell_type": "code",
   "execution_count": 27,
   "metadata": {},
   "outputs": [
    {
     "data": {
      "text/plain": [
       "<AxesSubplot:>"
      ]
     },
     "execution_count": 27,
     "metadata": {},
     "output_type": "execute_result"
    },
    {
     "data": {
      "image/png": "[encoded data removed]",
      "text/plain": [
       "<Figure size 800x400 with 1 Axes>"
      ]
     },
     "metadata": {},
     "output_type": "display_data"
    }
   ],
   "source": [
    "fig=plt.figure(figsize=(8,4))\n",
    "ax=fig.gca()\n",
    "dfp['full-time/part-time_indicator'].hist(ax=ax)"
   ]
  },
  {
   "cell_type": "code",
   "execution_count": 28,
   "metadata": {},
   "outputs": [
    {
     "data": {
      "text/plain": [
       "<AxesSubplot:>"
      ]
     },
     "execution_count": 28,
     "metadata": {},
     "output_type": "execute_result"
    },
    {
     "data": {
      "image/png": "[encoded data removed]",
      "text/plain": [
       "<Figure size 800x400 with 1 Axes>"
      ]
     },
     "metadata": {},
     "output_type": "display_data"
    }
   ],
   "source": [
    "fig=plt.figure(figsize=(8,4))\n",
    "ax=fig.gca()\n",
    "dfp['salary_frequency'].hist(ax=ax)"
   ]
  },
  {
   "cell_type": "code",
   "execution_count": 29,
   "metadata": {},
   "outputs": [
    {
     "data": {
      "text/plain": [
       "['no_of_positions', 'salary_range_from', 'salary_range_to']"
      ]
     },
     "execution_count": 29,
     "metadata": {},
     "output_type": "execute_result"
    }
   ],
   "source": [
    "numerical_columns"
   ]
  },
  {
   "cell_type": "code",
   "execution_count": 32,
   "metadata": {},
   "outputs": [
    {
     "data": {
      "text/plain": [
       "<seaborn.axisgrid.FacetGrid at 0x7fc25469a370>"
      ]
     },
     "execution_count": 32,
     "metadata": {},
     "output_type": "execute_result"
    },
    {
     "data": {
      "image/png": "[encoded data removed]",
      "text/plain": [
       "<Figure size 650x400 with 1 Axes>"
      ]
     },
     "metadata": {},
     "output_type": "display_data"
    }
   ],
   "source": [
    "sns.catplot(x=\"salary_frequency\",kind='count', data=dfp,height=4,aspect=6.5/4)"
   ]
  },
  {
   "cell_type": "code",
   "execution_count": 35,
   "metadata": {},
   "outputs": [
    {
     "data": {
      "text/plain": [
       "<AxesSubplot:xlabel='salary_frequency'>"
      ]
     },
     "execution_count": 35,
     "metadata": {},
     "output_type": "execute_result"
    },
    {
     "data": {
      "image/png": "[encoded data removed]",
      "text/plain": [
       "<Figure size 800x400 with 1 Axes>"
      ]
     },
     "metadata": {},
     "output_type": "display_data"
    }
   ],
   "source": [
    "cross_tab=pd.crosstab(index=dfp['salary_frequency'],columns=dfp['full-time/part-time_indicator'],normalize='index')\n",
    "\n",
    "cross_tab.plot(kind='bar',stacked=True,figsize=(8,4))"
   ]
  },
  {
   "cell_type": "code",
   "execution_count": null,
   "metadata": {},
   "outputs": [],
   "source": []
  }
 ],
 "metadata": {
  "kernelspec": {
   "display_name": "Python 3 (ipykernel)",
   "language": "python",
   "name": "python3"
  },
  "language_info": {
   "codemirror_mode": {
    "name": "ipython",
    "version": 3
   },
   "file_extension": ".py",
   "mimetype": "text/x-python",
   "name": "python",
   "nbconvert_exporter": "python",
   "pygments_lexer": "ipython3",
   "version": "3.9.7"
  }
 },
 "nbformat": 4,
 "nbformat_minor": 4
}
