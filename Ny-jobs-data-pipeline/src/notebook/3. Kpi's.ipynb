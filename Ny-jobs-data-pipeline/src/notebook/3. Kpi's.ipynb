{
 "cells": [
  {
   "cell_type": "code",
   "execution_count": 1,
   "metadata": {},
   "outputs": [],
   "source": [
    "import sys\n",
    "sys.path.insert(0, '..')"
   ]
  },
  {
   "cell_type": "code",
   "execution_count": 2,
   "metadata": {},
   "outputs": [],
   "source": [
    "import findspark\n",
    "findspark.init()"
   ]
  },
  {
   "cell_type": "code",
   "execution_count": 3,
   "metadata": {},
   "outputs": [],
   "source": [
    "%load_ext autoreload\n",
    "%autoreload 2\n",
    "from utils.utilities import read_file,write_output\n",
    "from utils.business_kpi import get_top_n_job_posting\n",
    "from utils.business_kpi import get_avg_salary_per_degree\n",
    "from utils.business_kpi import get_avg_salary_agency\n",
    "from utils.business_kpi import get_top_job_posting_salary_agency\n",
    "from utils.business_kpi import get_avg_salary_per_category_per_frequency\n",
    "from utils.business_kpi import get_highest_paid_skill"
   ]
  },
  {
   "cell_type": "code",
   "execution_count": 102,
   "metadata": {},
   "outputs": [],
   "source": [
    "from pyspark.sql import SparkSession\n",
    "\n",
    "spark = SparkSession.builder. \\\n",
    "    appName(\"KPI-s\"). \\\n",
    "    getOrCreate()\n",
    "spark.conf.set(\"spark.debug.maxToStringFields\", 100000)\n",
    "spark.conf.set(\"spark.sql.debug.maxToStringFields\", 100000)"
   ]
  },
  {
   "cell_type": "markdown",
   "metadata": {},
   "source": [
    "## Variables"
   ]
  },
  {
   "cell_type": "code",
   "execution_count": 103,
   "metadata": {},
   "outputs": [],
   "source": [
    "input_path=\"/dataset/output/cleaned/\"\n",
    "output_path='file:///dataset/output/'"
   ]
  },
  {
   "cell_type": "markdown",
   "metadata": {},
   "source": [
    "### Read data"
   ]
  },
  {
   "cell_type": "code",
   "execution_count": 108,
   "metadata": {},
   "outputs": [],
   "source": [
    "df=read_file(input_path)"
   ]
  },
  {
   "cell_type": "markdown",
   "metadata": {},
   "source": [
    "## List of KPIs to be resolved:\n",
    "#### 1. What's the number of jobs posting per category (Top 10)?\n",
    "#### 2. What's the salary distribution per job category?\n",
    "#### 3. Is there any correlation between the higher degree and the salary?\n",
    "#### 4. What's the job posting having the highest salary per agency?\n",
    "#### 5. What's the job postings average salary per agency for the last 2 years?\n",
    "#### 6. What are the highest paid skills in the US market?"
   ]
  },
  {
   "cell_type": "markdown",
   "metadata": {},
   "source": [
    "## 1. What's the number of jobs posting per category (Top 10)?"
   ]
  },
  {
   "cell_type": "code",
   "execution_count": 109,
   "metadata": {},
   "outputs": [
    {
     "name": "stdout",
     "output_type": "stream",
     "text": [
      "22/08/28 15:50:40 WARN WindowExec: No Partition Defined for Window operation! Moving all data to a single partition, this can cause serious performance degradation.\n",
      "22/08/28 15:50:40 WARN WindowExec: No Partition Defined for Window operation! Moving all data to a single partition, this can cause serious performance degradation.\n",
      "22/08/28 15:50:40 WARN WindowExec: No Partition Defined for Window operation! Moving all data to a single partition, this can cause serious performance degradation.\n",
      "22/08/28 15:50:40 WARN WindowExec: No Partition Defined for Window operation! Moving all data to a single partition, this can cause serious performance degradation.\n",
      "22/08/28 15:50:40 WARN WindowExec: No Partition Defined for Window operation! Moving all data to a single partition, this can cause serious performance degradation.\n",
      "22/08/28 15:50:40 WARN WindowExec: No Partition Defined for Window operation! Moving all data to a single partition, this can cause serious performance degradation.\n",
      "22/08/28 15:50:40 WARN WindowExec: No Partition Defined for Window operation! Moving all data to a single partition, this can cause serious performance degradation.\n",
      "22/08/28 15:50:40 WARN WindowExec: No Partition Defined for Window operation! Moving all data to a single partition, this can cause serious performance degradation.\n",
      "+-----------------------------------------+--------------+---------------+\n",
      "|job_category                             |number_of_jobs|no_of_positions|\n",
      "+-----------------------------------------+--------------+---------------+\n",
      "|Technology, Data & Innovation            |182           |404.0          |\n",
      "|Administration & Human Resources         |88            |321.0          |\n",
      "|Finance, Accounting, & Procurement       |98            |274.0          |\n",
      "|Engineering, Architecture, & Planning    |260           |755.0          |\n",
      "|Constituent Services & Community Programs|68            |149.0          |\n",
      "|Public Safety, Inspections, & Enforcement|98            |1205.0         |\n",
      "|Policy, Research & Analysis              |64            |200.0          |\n",
      "|Health                                   |71            |358.0          |\n",
      "|Building Operations & Maintenance        |99            |1234.0         |\n",
      "|Legal Affairs                            |120           |513.0          |\n",
      "+-----------------------------------------+--------------+---------------+\n",
      "\n"
     ]
    }
   ],
   "source": [
    "top_n_result = get_top_n_job_posting(df,10).drop(\"row_number\")\n",
    "top_n_result.show(10,False)"
   ]
  },
  {
   "cell_type": "code",
   "execution_count": 36,
   "metadata": {},
   "outputs": [
    {
     "name": "stdout",
     "output_type": "stream",
     "text": [
      "22/08/28 03:30:38 WARN WindowExec: No Partition Defined for Window operation! Moving all data to a single partition, this can cause serious performance degradation.\n",
      "22/08/28 03:30:38 WARN WindowExec: No Partition Defined for Window operation! Moving all data to a single partition, this can cause serious performance degradation.\n",
      "22/08/28 03:30:38 WARN WindowExec: No Partition Defined for Window operation! Moving all data to a single partition, this can cause serious performance degradation.\n",
      "22/08/28 03:30:38 WARN WindowExec: No Partition Defined for Window operation! Moving all data to a single partition, this can cause serious performance degradation.\n",
      "22/08/28 03:30:38 WARN WindowExec: No Partition Defined for Window operation! Moving all data to a single partition, this can cause serious performance degradation.\n",
      "22/08/28 03:30:38 WARN WindowExec: No Partition Defined for Window operation! Moving all data to a single partition, this can cause serious performance degradation.\n",
      "22/08/28 03:30:38 WARN WindowExec: No Partition Defined for Window operation! Moving all data to a single partition, this can cause serious performance degradation.\n",
      "22/08/28 03:30:38 WARN WindowExec: No Partition Defined for Window operation! Moving all data to a single partition, this can cause serious performance degradation.\n",
      "22/08/28 03:30:38 WARN WindowExec: No Partition Defined for Window operation! Moving all data to a single partition, this can cause serious performance degradation.\n",
      "22/08/28 03:30:38 WARN WindowExec: No Partition Defined for Window operation! Moving all data to a single partition, this can cause serious performance degradation.\n",
      "22/08/28 03:30:38 WARN WindowExec: No Partition Defined for Window operation! Moving all data to a single partition, this can cause serious performance degradation.\n",
      "22/08/28 03:30:38 WARN WindowExec: No Partition Defined for Window operation! Moving all data to a single partition, this can cause serious performance degradation.\n",
      "22/08/28 03:30:38 WARN WindowExec: No Partition Defined for Window operation! Moving all data to a single partition, this can cause serious performance degradation.\n",
      "22/08/28 03:30:38 WARN WindowExec: No Partition Defined for Window operation! Moving all data to a single partition, this can cause serious performance degradation.\n",
      "22/08/28 03:30:38 WARN WindowExec: No Partition Defined for Window operation! Moving all data to a single partition, this can cause serious performance degradation.\n",
      "22/08/28 03:30:38 WARN WindowExec: No Partition Defined for Window operation! Moving all data to a single partition, this can cause serious performance degradation.\n"
     ]
    }
   ],
   "source": [
    "jc_jobs=top_n_result.select('job_category','number_of_jobs').toPandas()\n",
    "jc_positions=top_n_result.select('job_category','no_of_positions').toPandas()"
   ]
  },
  {
   "cell_type": "markdown",
   "metadata": {},
   "source": [
    "#### Write Output"
   ]
  },
  {
   "cell_type": "code",
   "execution_count": null,
   "metadata": {},
   "outputs": [],
   "source": [
    "# write_output(top_n_result,output_path+'top_n_job_posting/')"
   ]
  },
  {
   "cell_type": "code",
   "execution_count": 40,
   "metadata": {},
   "outputs": [
    {
     "data": {
      "image/png": "[encoded data removed]",
      "text/plain": [
       "<Figure size 432x288 with 1 Axes>"
      ]
     },
     "metadata": {
      "needs_background": "light"
     },
     "output_type": "display_data"
    }
   ],
   "source": [
    "#visualise top 10 job postings\n",
    "from matplotlib import pyplot as plt\n",
    "jc_jobs.plot.bar(x='job_category')\n",
    "plt.show()"
   ]
  },
  {
   "cell_type": "code",
   "execution_count": 41,
   "metadata": {},
   "outputs": [
    {
     "data": {
      "image/png": "[encoded data removed]",
      "text/plain": [
       "<Figure size 432x288 with 1 Axes>"
      ]
     },
     "metadata": {
      "needs_background": "light"
     },
     "output_type": "display_data"
    }
   ],
   "source": [
    "jc_positions.plot.bar(x='job_category')\n",
    "plt.show()"
   ]
  },
  {
   "cell_type": "markdown",
   "metadata": {},
   "source": [
    "## 2. What's the salary distribution per job category?"
   ]
  },
  {
   "cell_type": "code",
   "execution_count": 105,
   "metadata": {},
   "outputs": [
    {
     "name": "stdout",
     "output_type": "stream",
     "text": [
      "+--------------------+----------------+-----------------+\n",
      "|        job_category|salary_frequency|       avg_salary|\n",
      "+--------------------+----------------+-----------------+\n",
      "|Policy, Research ...|          Annual|71020.12162162163|\n",
      "|Administration & ...|          Annual|          53075.5|\n",
      "|Administration & ...|          Annual|         110000.0|\n",
      "|                null|          Annual|          82661.0|\n",
      "|Health Technology...|          Annual|86833.33333333333|\n",
      "+--------------------+----------------+-----------------+\n",
      "only showing top 5 rows\n",
      "\n"
     ]
    }
   ],
   "source": [
    "avg_sal_result = get_avg_salary_per_category_per_frequency(df)\n",
    "avg_sal_result.show(5)"
   ]
  },
  {
   "cell_type": "code",
   "execution_count": 120,
   "metadata": {},
   "outputs": [],
   "source": [
    "from pyspark.sql.functions import col, row_number\n",
    "from pyspark.sql.window import Window\n",
    "\n",
    "windowSpec  = Window.partitionBy(\"salary_frequency\").orderBy(f.col('avg_salary').desc())\n",
    "result = avg_sal_result.withColumn(\"row_number\",f.row_number().\\\n",
    "                       over(Window.partitionBy(\"salary_frequency\").\\\n",
    "                            orderBy(f.col('avg_salary').desc()))).filter(\"row_number < 4\")\n",
    "result_DF = result.toPandas().set_index(\"job_category\").pivot(columns=\"salary_frequency\",values=\"avg_salary\")"
   ]
  },
  {
   "cell_type": "code",
   "execution_count": 126,
   "metadata": {},
   "outputs": [
    {
     "name": "stdout",
     "output_type": "stream",
     "text": [
      "+--------------------+----------------+------------------+----------+\n",
      "|        job_category|salary_frequency|        avg_salary|row_number|\n",
      "+--------------------+----------------+------------------+----------+\n",
      "|Administration & ...|          Annual|          218587.0|         1|\n",
      "|Engineering, Arch...|          Annual|          198518.0|         2|\n",
      "|Engineering, Arch...|          Annual|          196042.5|         3|\n",
      "|Engineering, Arch...|           Daily|            539.12|         1|\n",
      "|Engineering, Arch...|           Daily|            486.72|         2|\n",
      "|Engineering, Arch...|           Daily|            363.92|         3|\n",
      "|Constituent Servi...|          Hourly|58.741499999999995|         1|\n",
      "|Building Operatio...|          Hourly|             48.95|         2|\n",
      "|Engineering, Arch...|          Hourly| 48.32333333333333|         3|\n",
      "+--------------------+----------------+------------------+----------+\n",
      "\n"
     ]
    }
   ],
   "source": [
    "result.show(10)"
   ]
  },
  {
   "cell_type": "code",
   "execution_count": 121,
   "metadata": {},
   "outputs": [
    {
     "data": {
      "text/plain": [
       "<AxesSubplot:xlabel='job_category'>"
      ]
     },
     "execution_count": 121,
     "metadata": {},
     "output_type": "execute_result"
    },
    {
     "data": {
      "image/png": "[encoded data removed]",
      "text/plain": [
       "<Figure size 432x288 with 1 Axes>"
      ]
     },
     "metadata": {
      "needs_background": "light"
     },
     "output_type": "display_data"
    }
   ],
   "source": [
    "result_DF.plot.bar(rot=0)"
   ]
  },
  {
   "cell_type": "markdown",
   "metadata": {},
   "source": [
    "#### Write Output File"
   ]
  },
  {
   "cell_type": "code",
   "execution_count": null,
   "metadata": {},
   "outputs": [],
   "source": [
    "# write_output(avg_sal_result,output_path+'avg_salary_per_category_per_frequency/')"
   ]
  },
  {
   "cell_type": "markdown",
   "metadata": {},
   "source": [
    "## 3. Is there any correlation between the higher degree and the salary?"
   ]
  },
  {
   "cell_type": "code",
   "execution_count": 19,
   "metadata": {},
   "outputs": [
    {
     "name": "stdout",
     "output_type": "stream",
     "text": [
      "+-------------+------------------+----------+------------------+\n",
      "|degree       |Min_Salary        |Max_Salary|Avg_Salary        |\n",
      "+-------------+------------------+----------+------------------+\n",
      "|graduate     |61345.0           |121950.0  |83318.6875        |\n",
      "|college      |59572.0           |97115.5   |77920.58333333333 |\n",
      "|technology   |51435.5           |51435.5   |51435.5           |\n",
      "|doctorate    |62693.0           |116000.0  |84516.27011494253 |\n",
      "|associate    |29.06075          |137500.0  |59248.71057627388 |\n",
      "|masters      |51483.0           |120474.5  |87392.06910394266 |\n",
      "|science      |34.519999999999996|86194.0   |49466.48960000001 |\n",
      "|baccalaureate|21.55175          |209585.0  |75699.9520885258  |\n",
      "|ba/bs        |49956.5           |49956.5   |49956.5           |\n",
      "|Others       |9.555             |217201.0  |57234.167652677446|\n",
      "|bs/ba        |121950.0          |167500.0  |144725.0          |\n",
      "|architecture |61567.0           |76000.0   |68950.16666666667 |\n",
      "|professional |51535.0           |169011.0  |70583.79166666667 |\n",
      "|engineering  |102507.0          |102507.0  |102507.0          |\n",
      "|four-year    |61567.0           |76000.0   |68950.16666666667 |\n",
      "|advanced     |62500.0           |80000.0   |71250.0           |\n",
      "|law          |32.59905          |139500.0  |102066.0031951613 |\n",
      "|advance      |64995.0           |106909.5  |83102.75          |\n",
      "|higher       |334.08            |334.08    |334.08            |\n",
      "+-------------+------------------+----------+------------------+\n",
      "\n"
     ]
    }
   ],
   "source": [
    "sal_per_degree_result = get_avg_salary_per_degree(df)\n",
    "sal_per_degree_result.show(20,False)"
   ]
  },
  {
   "cell_type": "code",
   "execution_count": 26,
   "metadata": {},
   "outputs": [
    {
     "data": {
      "image/png": "[encoded data removed]",
      "text/plain": [
       "<Figure size 432x288 with 1 Axes>"
      ]
     },
     "metadata": {
      "needs_background": "light"
     },
     "output_type": "display_data"
    }
   ],
   "source": [
    "#visualise degree and salary\n",
    "from matplotlib import pyplot as plt\n",
    "pdf=sal_per_degree_result.toPandas()\n",
    "pdf.plot.bar(x='degree',y='Avg_Salary')\n",
    "plt.show()"
   ]
  },
  {
   "cell_type": "markdown",
   "metadata": {},
   "source": [
    "#### Write Output File"
   ]
  },
  {
   "cell_type": "code",
   "execution_count": null,
   "metadata": {},
   "outputs": [],
   "source": [
    "# write_output(sal_per_degree_result,output_path+'avg_salary_per_degree/')"
   ]
  },
  {
   "cell_type": "markdown",
   "metadata": {},
   "source": [
    "## 4. What's the job posting having the highest salary per agency?"
   ]
  },
  {
   "cell_type": "code",
   "execution_count": 22,
   "metadata": {},
   "outputs": [
    {
     "data": {
      "text/plain": [
       "['job_id',\n",
       " 'agency',\n",
       " 'posting_type',\n",
       " 'no_of_positions',\n",
       " 'business_title',\n",
       " 'civil_service_title',\n",
       " 'title_code_no',\n",
       " 'level',\n",
       " 'job_category',\n",
       " 'full-time/part-time_indicator',\n",
       " 'salary_range_from',\n",
       " 'salary_range_to',\n",
       " 'salary_frequency',\n",
       " 'work_location',\n",
       " 'division/work_unit',\n",
       " 'job_description',\n",
       " 'minimum_qual_requirements',\n",
       " 'preferred_skills',\n",
       " 'additional_information',\n",
       " 'to_apply',\n",
       " 'hours/shift',\n",
       " 'work_location_1',\n",
       " 'recruitment_contact',\n",
       " 'residency_requirement',\n",
       " 'posting_date',\n",
       " 'post_until',\n",
       " 'posting_updated',\n",
       " 'process_date']"
      ]
     },
     "execution_count": 22,
     "metadata": {},
     "output_type": "execute_result"
    }
   ],
   "source": [
    "df.columns"
   ]
  },
  {
   "cell_type": "code",
   "execution_count": 15,
   "metadata": {},
   "outputs": [
    {
     "name": "stdout",
     "output_type": "stream",
     "text": [
      "+--------------------+------+--------------------+-----------------+---------------+----------+\n",
      "|              agency|job_id|      business_title|salary_range_from|salary_range_to|avg_salary|\n",
      "+--------------------+------+--------------------+-----------------+---------------+----------+\n",
      "|ADMIN FOR CHILDRE...|407253|Assistant Commiss...|          78574.0|       156375.0|  117474.5|\n",
      "|ADMIN TRIALS AND ...|417207|Assistant General...|          80000.0|       100000.0|   90000.0|\n",
      "| BOARD OF CORRECTION|387034|IT Systems Suppor...|          89509.0|       102936.0|   96222.5|\n",
      "|BOROUGH PRESIDENT...|386195|         Engineering|          65783.0|        95270.0|   80526.5|\n",
      "|BUSINESS INTEGRIT...|403516|Executive Agency ...|          90000.0|       100000.0|   95000.0|\n",
      "|CIVILIAN COMPLAIN...|421027|    Policy and Legal|          63031.0|       168433.0|  115732.0|\n",
      "|CONFLICTS OF INTE...|412080|DIRECTOR OF ENFOR...|         100000.0|       170000.0|  135000.0|\n",
      "|    CONSUMER AFFAIRS|425321|Assistant Commiss...|          88936.0|       140000.0|  114468.0|\n",
      "|DEPARTMENT FOR TH...|415326|Executive Agency ...|         150371.0|       150371.0|  150371.0|\n",
      "|DEPARTMENT OF BUI...|425908|Borough Enforceme...|          71423.0|        82137.0|   76780.0|\n",
      "|DEPARTMENT OF BUS...| 97899|EXECUTIVE DIRECTO...|          60740.0|       162014.0|  111377.0|\n",
      "|DEPARTMENT OF CIT...|400428|Senior Director o...|         115000.0|       135000.0|  125000.0|\n",
      "|DEPARTMENT OF COR...|423322|Assistant Commiss...|         130000.0|       145000.0|  137500.0|\n",
      "|DEPARTMENT OF FIN...|421247|Cyber Security Id...|         120000.0|       130000.0|  125000.0|\n",
      "|DEPARTMENT OF INV...|423103|Deputy Commission...|         160000.0|       170000.0|  165000.0|\n",
      "|DEPARTMENT OF PRO...|396334| IT Security Officer|          75000.0|       180000.0|  127500.0|\n",
      "|DEPARTMENT OF SAN...|414884|ASSISTANT COMMISS...|          78574.0|       202744.0|  140659.0|\n",
      "|DEPARTMENT OF TRA...|410502|    Network Engineer|          89509.0|       126575.0|  108042.0|\n",
      "|DEPT OF CITYWIDE ...|417281|Director, Deep En...|         110000.0|       125000.0|  117500.0|\n",
      "|DEPT OF DESIGN & ...|416442|Associate Commiss...|          86346.0|       217244.0|  151795.0|\n",
      "+--------------------+------+--------------------+-----------------+---------------+----------+\n",
      "only showing top 20 rows\n",
      "\n"
     ]
    }
   ],
   "source": [
    "top_job_result = get_top_job_posting_salary_agency(df)\n",
    "top_job_result.show()"
   ]
  },
  {
   "cell_type": "markdown",
   "metadata": {},
   "source": [
    "#### Write Output File"
   ]
  },
  {
   "cell_type": "code",
   "execution_count": null,
   "metadata": {},
   "outputs": [],
   "source": [
    "# write_output(top_job_result,output_path+'top_job_posting_salary_agency/')"
   ]
  },
  {
   "cell_type": "markdown",
   "metadata": {},
   "source": [
    "## 5. What's the job postings average salary per agency for the last 2 years?"
   ]
  },
  {
   "cell_type": "code",
   "execution_count": 18,
   "metadata": {},
   "outputs": [
    {
     "name": "stdout",
     "output_type": "stream",
     "text": [
      "+-----------------------------+---------------------+-------------------+------------------+\n",
      "|agency                       |avg_salary_range_from|avg_salary_range_to|avg_salary        |\n",
      "+-----------------------------+---------------------+-------------------+------------------+\n",
      "|FIRE DEPARTMENT              |63359.345554545456   |75692.69002727274  |69526.0177909091  |\n",
      "|ADMIN FOR CHILDREN'S SVCS    |59931.603923529416   |85165.63494411766  |72548.61943382354 |\n",
      "|TAX COMMISSION               |10955.166666666666   |46378.96666666667  |28667.066666666666|\n",
      "|HRA/DEPT OF SOCIAL SERVICES  |59334.951535483866   |81065.29427741935  |70200.12290645161 |\n",
      "|TAXI & LIMOUSINE COMMISSION  |54565.37987089552    |67516.67985671642  |61041.02986380596 |\n",
      "|EQUAL EMPLOY PRACTICES COMM  |58664.0              |67463.5            |63063.75          |\n",
      "|DEPARTMENT OF BUSINESS SERV. |46938.18948          |63847.399595999996 |55392.794537999995|\n",
      "|DEPT OF DESIGN & CONSTRUCTION|60862.59154929577    |114836.08450704225 |87849.33802816902 |\n",
      "|DEPARTMENT OF CORRECTION     |63140.77551020408    |72363.20450612245  |67751.99000816327 |\n",
      "|FINANCIAL INFO SVCS AGENCY   |80272.7741935484     |111769.48387096774 |96021.12903225806 |\n",
      "+-----------------------------+---------------------+-------------------+------------------+\n",
      "only showing top 10 rows\n",
      "\n"
     ]
    }
   ],
   "source": [
    "spark.conf.set(\"spark.sql.legacy.timeParserPolicy\",\"LEGACY\")\n",
    "avg_sal_result = get_avg_salary_agency(df,False)\n",
    "avg_sal_result.show(10,False)"
   ]
  },
  {
   "cell_type": "markdown",
   "metadata": {},
   "source": [
    "#### Write Output File"
   ]
  },
  {
   "cell_type": "code",
   "execution_count": 20,
   "metadata": {},
   "outputs": [],
   "source": [
    "# write_output(avg_sal_result,output_path+'avg_salary_agency/')"
   ]
  },
  {
   "cell_type": "markdown",
   "metadata": {},
   "source": [
    "## 6. What are the highest paid skills in the US market?"
   ]
  },
  {
   "cell_type": "code",
   "execution_count": 55,
   "metadata": {},
   "outputs": [],
   "source": [
    "highest_paid_result=get_highest_paid_skill(df)"
   ]
  },
  {
   "cell_type": "code",
   "execution_count": 56,
   "metadata": {},
   "outputs": [
    {
     "name": "stdout",
     "output_type": "stream",
     "text": [
      "The highest paid skills in the US market is: The Deputy Commissioner position requires excellent leadership communication and client service skills as well as a passion for driving innovation continuous improvement and efficiency and implementing workforce strategies to recruit develop and retain the most qualified and diverse talent in a customer service environment The selected candidate will be expected to work closely with Agency and oversight counterparts and must have excellent management skills focused on staff alignment with the Bureau s vision goals and career development In addition he/she must be an effective team player capable of sustaining a culture of excellence in the delivery of customer service to internal partners and possess the ability to establish and maintain effective external partnerships and collaboration Specifically the following skills and abilities are required to be successful in this role 7-10 years relevant work experience leading customer focused functions of which at least 3 years must have been in a senior leadership position BA/BS degree MBA/advanced degree preferred Strong analytical skills with ability to interpret data and trends diagnose problems and implement action plans to resolve issues Outstanding written and oral communication skills Comfort in managing concurrent projects in a fast-paced results-driven environment with equal enthusiasm for high-level strategic planning and tactical daily execution In-depth knowledge of Federal City and State governmental rules and regulations related to the position NYC experience is a plus Proficiency in Microsoft Office Suite\n"
     ]
    }
   ],
   "source": [
    "print(highest_paid_result)"
   ]
  }
 ],
 "metadata": {
  "kernelspec": {
   "display_name": "Python 3 (ipykernel)",
   "language": "python",
   "name": "python3"
  },
  "language_info": {
   "codemirror_mode": {
    "name": "ipython",
    "version": 3
   },
   "file_extension": ".py",
   "mimetype": "text/x-python",
   "name": "python",
   "nbconvert_exporter": "python",
   "pygments_lexer": "ipython3",
   "version": "3.9.7"
  }
 },
 "nbformat": 4,
 "nbformat_minor": 4
}
